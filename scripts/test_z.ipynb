{
 "cells": [
  {
   "metadata": {},
   "cell_type": "markdown",
   "source": [
    "# Test for pre_info"
   ],
   "id": "4d31a0805dd147e3"
  },
  {
   "cell_type": "code",
   "id": "initial_id",
   "metadata": {
    "collapsed": true,
    "ExecuteTime": {
     "end_time": "2024-09-22T12:39:03.733Z",
     "start_time": "2024-09-22T12:39:03.721094Z"
    }
   },
   "source": [
    "from sandbox.pre_info import AgentInfo"
   ],
   "outputs": [],
   "execution_count": 13
  },
  {
   "cell_type": "code",
   "source": [
    "agent_info = AgentInfo(0,0,\"../datasets/agent_preinstall.json\")\n",
    "print(agent_info.info)"
   ],
   "metadata": {
    "collapsed": false,
    "ExecuteTime": {
     "end_time": "2024-09-22T12:39:04.175913Z",
     "start_time": "2024-09-22T12:39:04.170365Z"
    }
   },
   "id": "9599f745e7f41384",
   "outputs": [
    {
     "name": "stdout",
     "output_type": "stream",
     "text": [
      "Human: You are having a conversation with others in a chat group on the topic `Favorite Hikes`. Here is some basic description of you:\n",
      "  Name: Goldie\n",
      "  Gender: Female\n",
      "  Personality: Normal\n",
      "  Style: Cute\n",
      "  Hobby: Nature\n",
      "  Catchphrase: woof\n",
      "  Favorite Song: K.K. Bossa\n",
      "  Favorite Saying: A friend in need is a friend indeed.\n",
      "  Color: Yellow\n"
     ]
    }
   ],
   "execution_count": 14
  },
  {
   "cell_type": "markdown",
   "source": [
    "# Test for 智能集群创建"
   ],
   "metadata": {
    "collapsed": false
   },
   "id": "e9b8e598a4f5871"
  },
  {
   "cell_type": "code",
   "source": [
    "from sandbox.simulator import Simulator\n",
    "num_agents=5\n",
    "MA= Simulator(num_agents)\n",
    "MA.initialize()\n",
    "for i in range(num_agents):\n",
    "    print(MA.agents[i].background.neighbors)"
   ],
   "metadata": {
    "collapsed": false,
    "ExecuteTime": {
     "end_time": "2024-09-22T12:39:05.272417Z",
     "start_time": "2024-09-22T12:39:05.227515Z"
    }
   },
   "id": "854a552773428c21",
   "outputs": [
    {
     "ename": "KeyError",
     "evalue": "'openai_api_key'",
     "output_type": "error",
     "traceback": [
      "\u001B[0;31m---------------------------------------------------------------------------\u001B[0m",
      "\u001B[0;31mKeyError\u001B[0m                                  Traceback (most recent call last)",
      "Cell \u001B[0;32mIn[15], line 4\u001B[0m\n\u001B[1;32m      2\u001B[0m num_agents\u001B[38;5;241m=\u001B[39m\u001B[38;5;241m5\u001B[39m\n\u001B[1;32m      3\u001B[0m MA\u001B[38;5;241m=\u001B[39m Simulator(num_agents)\n\u001B[0;32m----> 4\u001B[0m \u001B[43mMA\u001B[49m\u001B[38;5;241;43m.\u001B[39;49m\u001B[43minitialize\u001B[49m\u001B[43m(\u001B[49m\u001B[43m)\u001B[49m\n\u001B[1;32m      5\u001B[0m \u001B[38;5;28;01mfor\u001B[39;00m i \u001B[38;5;129;01min\u001B[39;00m \u001B[38;5;28mrange\u001B[39m(num_agents):\n\u001B[1;32m      6\u001B[0m     \u001B[38;5;28mprint\u001B[39m(MA\u001B[38;5;241m.\u001B[39magents[i]\u001B[38;5;241m.\u001B[39mbackground\u001B[38;5;241m.\u001B[39mneighbors)\n",
      "File \u001B[0;32m~/Documents/AnDsim/sandbox/simulator.py:90\u001B[0m, in \u001B[0;36mSimulator.initialize\u001B[0;34m(self)\u001B[0m\n\u001B[1;32m     85\u001B[0m \u001B[38;5;250m\u001B[39m\u001B[38;5;124;03m\"\"\"\u001B[39;00m\n\u001B[1;32m     86\u001B[0m \u001B[38;5;124;03m将整个模拟器初始化\u001B[39;00m\n\u001B[1;32m     87\u001B[0m \u001B[38;5;124;03m:return:\u001B[39;00m\n\u001B[1;32m     88\u001B[0m \u001B[38;5;124;03m\"\"\"\u001B[39;00m\n\u001B[1;32m     89\u001B[0m \u001B[38;5;28mself\u001B[39m\u001B[38;5;241m.\u001B[39m_init_tools()\n\u001B[0;32m---> 90\u001B[0m \u001B[38;5;28;43mself\u001B[39;49m\u001B[38;5;241;43m.\u001B[39;49m\u001B[43m_init_agents\u001B[49m\u001B[43m(\u001B[49m\u001B[43m)\u001B[49m\n",
      "File \u001B[0;32m~/Documents/AnDsim/sandbox/simulator.py:52\u001B[0m, in \u001B[0;36mSimulator._init_agents\u001B[0;34m(self)\u001B[0m\n\u001B[1;32m     49\u001B[0m info \u001B[38;5;241m=\u001B[39m AgentInfo(\u001B[38;5;241m0.4\u001B[39m, \u001B[38;5;241m0.4\u001B[39m,\n\u001B[1;32m     50\u001B[0m                  \u001B[38;5;28mself\u001B[39m\u001B[38;5;241m.\u001B[39magent_description_path)  \u001B[38;5;66;03m###actively_chat_probability，end_chat_probability 未填写\u001B[39;00m\n\u001B[1;32m     51\u001B[0m \u001B[38;5;28;01mif\u001B[39;00m i \u001B[38;5;241m==\u001B[39m \u001B[38;5;241m0\u001B[39m:\n\u001B[0;32m---> 52\u001B[0m     agent \u001B[38;5;241m=\u001B[39m \u001B[43mEntranceAgent\u001B[49m\u001B[43m(\u001B[49m\u001B[43mname\u001B[49m\u001B[38;5;241;43m=\u001B[39;49m\u001B[43m[\u001B[49m\u001B[43mi\u001B[49m\u001B[43m]\u001B[49m\u001B[43m,\u001B[49m\u001B[43m \u001B[49m\u001B[43mmodel\u001B[49m\u001B[38;5;241;43m=\u001B[39;49m\u001B[38;5;124;43m'\u001B[39;49m\u001B[38;5;124;43mgpt-4o-mini\u001B[39;49m\u001B[38;5;124;43m'\u001B[39;49m\u001B[43m,\u001B[49m\u001B[43m \u001B[49m\u001B[43mtools\u001B[49m\u001B[38;5;241;43m=\u001B[39;49m\u001B[38;5;28;43mself\u001B[39;49m\u001B[38;5;241;43m.\u001B[39;49m\u001B[43mtools\u001B[49m\u001B[43m,\u001B[49m\n\u001B[1;32m     53\u001B[0m \u001B[43m                          \u001B[49m\u001B[43mbackground\u001B[49m\u001B[38;5;241;43m=\u001B[39;49m\u001B[43minfo\u001B[49m\u001B[43m,\u001B[49m\u001B[43m \u001B[49m\u001B[43mextra_command\u001B[49m\u001B[38;5;241;43m=\u001B[39;49m\u001B[38;5;124;43m\"\u001B[39;49m\u001B[38;5;124;43m\"\u001B[39;49m\u001B[43m)\u001B[49m\n\u001B[1;32m     54\u001B[0m \u001B[38;5;28;01melse\u001B[39;00m:\n\u001B[1;32m     55\u001B[0m     agent \u001B[38;5;241m=\u001B[39m Agent(name\u001B[38;5;241m=\u001B[39m[i], model\u001B[38;5;241m=\u001B[39m\u001B[38;5;124m'\u001B[39m\u001B[38;5;124mgpt-4o-mini\u001B[39m\u001B[38;5;124m'\u001B[39m, tools\u001B[38;5;241m=\u001B[39m\u001B[38;5;28mself\u001B[39m\u001B[38;5;241m.\u001B[39mtools, background\u001B[38;5;241m=\u001B[39minfo)\n",
      "File \u001B[0;32m~/Documents/AnDsim/sandbox/agent.py:402\u001B[0m, in \u001B[0;36mEntranceAgent.__init__\u001B[0;34m(self, name, model, tools, background, extra_command)\u001B[0m\n\u001B[1;32m    394\u001B[0m \u001B[38;5;28;01mdef\u001B[39;00m \u001B[38;5;21m__init__\u001B[39m(\n\u001B[1;32m    395\u001B[0m         \u001B[38;5;28mself\u001B[39m,\n\u001B[1;32m    396\u001B[0m         name: \u001B[38;5;28mlist\u001B[39m[\u001B[38;5;28mint\u001B[39m],\n\u001B[0;32m   (...)\u001B[0m\n\u001B[1;32m    400\u001B[0m         extra_command: \u001B[38;5;28mstr\u001B[39m,  \u001B[38;5;66;03m# 额外的控制指令或prompt\u001B[39;00m\n\u001B[1;32m    401\u001B[0m ):\n\u001B[0;32m--> 402\u001B[0m     \u001B[38;5;28;43msuper\u001B[39;49m\u001B[43m(\u001B[49m\u001B[43m)\u001B[49m\u001B[38;5;241;43m.\u001B[39;49m\u001B[38;5;21;43m__init__\u001B[39;49m\u001B[43m(\u001B[49m\u001B[43mname\u001B[49m\u001B[38;5;241;43m=\u001B[39;49m\u001B[43mname\u001B[49m\u001B[43m,\u001B[49m\u001B[43m \u001B[49m\u001B[43mmodel\u001B[49m\u001B[38;5;241;43m=\u001B[39;49m\u001B[43mmodel\u001B[49m\u001B[43m,\u001B[49m\u001B[43m \u001B[49m\u001B[43mtools\u001B[49m\u001B[38;5;241;43m=\u001B[39;49m\u001B[43mtools\u001B[49m\u001B[43m,\u001B[49m\u001B[43m \u001B[49m\u001B[43mbackground\u001B[49m\u001B[38;5;241;43m=\u001B[39;49m\u001B[43mbackground\u001B[49m\u001B[43m)\u001B[49m\n\u001B[1;32m    403\u001B[0m     \u001B[38;5;66;03m# self.background = ... ## 重点编辑background，使其执行特定行为\u001B[39;00m\n\u001B[1;32m    404\u001B[0m     extra_command \u001B[38;5;241m=\u001B[39m \u001B[38;5;124m\"\u001B[39m\u001B[38;5;124m\"\u001B[39m\n",
      "File \u001B[0;32m~/Documents/AnDsim/sandbox/agent.py:85\u001B[0m, in \u001B[0;36mAgent.__init__\u001B[0;34m(self, name, model, tools, background)\u001B[0m\n\u001B[1;32m     83\u001B[0m \u001B[38;5;28;01mwith\u001B[39;00m \u001B[38;5;28mopen\u001B[39m(\u001B[38;5;124m\"\u001B[39m\u001B[38;5;124m../config/api_keys.yaml\u001B[39m\u001B[38;5;124m\"\u001B[39m) \u001B[38;5;28;01mas\u001B[39;00m f:\n\u001B[1;32m     84\u001B[0m     config \u001B[38;5;241m=\u001B[39m yaml\u001B[38;5;241m.\u001B[39mload(f, Loader\u001B[38;5;241m=\u001B[39myaml\u001B[38;5;241m.\u001B[39mFullLoader)\n\u001B[0;32m---> 85\u001B[0m openai_api_key \u001B[38;5;241m=\u001B[39m \u001B[43mconfig\u001B[49m\u001B[43m[\u001B[49m\u001B[38;5;124;43m\"\u001B[39;49m\u001B[38;5;124;43mopenai_api_key\u001B[39;49m\u001B[38;5;124;43m\"\u001B[39;49m\u001B[43m]\u001B[49m\n\u001B[1;32m     86\u001B[0m embedding \u001B[38;5;241m=\u001B[39m OpenAIEmbeddings(openai_api_key\u001B[38;5;241m=\u001B[39mopenai_api_key)\n\u001B[1;32m     87\u001B[0m long_memory \u001B[38;5;241m=\u001B[39m []\n",
      "\u001B[0;31mKeyError\u001B[0m: 'openai_api_key'"
     ]
    }
   ],
   "execution_count": 15
  },
  {
   "cell_type": "markdown",
   "source": [
    "# json.load 测试"
   ],
   "metadata": {
    "collapsed": false
   },
   "id": "5c419316f62f5372"
  },
  {
   "cell_type": "code",
   "source": [
    "import json\n",
    "\n",
    "# 假设你的字符串是这样的\n",
    "json_string = '[{\"type\":\"reply\",\"tool_name\":\"\",\"tool_parameter\":\"\",\"reply_prompt\":\"4乘5等于20。如果你有其他问题或需要更多的解释，随时可以问我！\"},{\"type\":\"reply\",\"tool_name\":\"\",\"tool_parameter\":\"\",\"reply_prompt\":\"4乘5等于20。如果你有其他问题或需要更多的解释，随时可以问我！\"}]'\n",
    "\n",
    "# 解析字符串为Python对象\n",
    "parsed_data = json.loads(json_string)\n",
    "\n",
    "# 打印结果以查看结构\n",
    "for item in parsed_data:\n",
    "    print(item[\"type\"])"
   ],
   "metadata": {
    "collapsed": false,
    "ExecuteTime": {
     "end_time": "2024-09-22T12:38:27.611019Z",
     "start_time": "2024-09-22T12:38:27.604573Z"
    }
   },
   "id": "7b26053b8b0f0c4a",
   "outputs": [
    {
     "name": "stdout",
     "output_type": "stream",
     "text": [
      "reply\n",
      "reply\n"
     ]
    }
   ],
   "execution_count": 7
  },
  {
   "cell_type": "markdown",
   "source": [
    "# multi-agent创建测试"
   ],
   "metadata": {
    "collapsed": false
   },
   "id": "9e7ee62ccef8875b"
  },
  {
   "cell_type": "code",
   "source": [
    "from sandbox.simulator import Simulator\n",
    "# 实例化类\n",
    "simulator_instance = Simulator(2)\n",
    "\n",
    "# 调用实例方法\n",
    "simulator_instance.initialize()\n",
    "print(simulator_instance.agents)\n",
    "# simulator_instance.emulate(2)"
   ],
   "metadata": {
    "collapsed": false,
    "ExecuteTime": {
     "end_time": "2024-09-22T12:38:50.005101Z",
     "start_time": "2024-09-22T12:38:49.960513Z"
    }
   },
   "id": "51f503ccdf0d9c6a",
   "outputs": [
    {
     "ename": "KeyError",
     "evalue": "'openai_api_key'",
     "output_type": "error",
     "traceback": [
      "\u001B[0;31m---------------------------------------------------------------------------\u001B[0m",
      "\u001B[0;31mKeyError\u001B[0m                                  Traceback (most recent call last)",
      "Cell \u001B[0;32mIn[12], line 6\u001B[0m\n\u001B[1;32m      3\u001B[0m simulator_instance \u001B[38;5;241m=\u001B[39m Simulator(\u001B[38;5;241m2\u001B[39m)\n\u001B[1;32m      5\u001B[0m \u001B[38;5;66;03m# 调用实例方法\u001B[39;00m\n\u001B[0;32m----> 6\u001B[0m \u001B[43msimulator_instance\u001B[49m\u001B[38;5;241;43m.\u001B[39;49m\u001B[43minitialize\u001B[49m\u001B[43m(\u001B[49m\u001B[43m)\u001B[49m\n\u001B[1;32m      7\u001B[0m \u001B[38;5;28mprint\u001B[39m(simulator_instance\u001B[38;5;241m.\u001B[39magents)\n",
      "File \u001B[0;32m~/Documents/AnDsim/sandbox/simulator.py:90\u001B[0m, in \u001B[0;36mSimulator.initialize\u001B[0;34m(self)\u001B[0m\n\u001B[1;32m     85\u001B[0m \u001B[38;5;250m\u001B[39m\u001B[38;5;124;03m\"\"\"\u001B[39;00m\n\u001B[1;32m     86\u001B[0m \u001B[38;5;124;03m将整个模拟器初始化\u001B[39;00m\n\u001B[1;32m     87\u001B[0m \u001B[38;5;124;03m:return:\u001B[39;00m\n\u001B[1;32m     88\u001B[0m \u001B[38;5;124;03m\"\"\"\u001B[39;00m\n\u001B[1;32m     89\u001B[0m \u001B[38;5;28mself\u001B[39m\u001B[38;5;241m.\u001B[39m_init_tools()\n\u001B[0;32m---> 90\u001B[0m \u001B[38;5;28;43mself\u001B[39;49m\u001B[38;5;241;43m.\u001B[39;49m\u001B[43m_init_agents\u001B[49m\u001B[43m(\u001B[49m\u001B[43m)\u001B[49m\n",
      "File \u001B[0;32m~/Documents/AnDsim/sandbox/simulator.py:52\u001B[0m, in \u001B[0;36mSimulator._init_agents\u001B[0;34m(self)\u001B[0m\n\u001B[1;32m     49\u001B[0m info \u001B[38;5;241m=\u001B[39m AgentInfo(\u001B[38;5;241m0.4\u001B[39m, \u001B[38;5;241m0.4\u001B[39m,\n\u001B[1;32m     50\u001B[0m                  \u001B[38;5;28mself\u001B[39m\u001B[38;5;241m.\u001B[39magent_description_path)  \u001B[38;5;66;03m###actively_chat_probability，end_chat_probability 未填写\u001B[39;00m\n\u001B[1;32m     51\u001B[0m \u001B[38;5;28;01mif\u001B[39;00m i \u001B[38;5;241m==\u001B[39m \u001B[38;5;241m0\u001B[39m:\n\u001B[0;32m---> 52\u001B[0m     agent \u001B[38;5;241m=\u001B[39m \u001B[43mEntranceAgent\u001B[49m\u001B[43m(\u001B[49m\u001B[43mname\u001B[49m\u001B[38;5;241;43m=\u001B[39;49m\u001B[43m[\u001B[49m\u001B[43mi\u001B[49m\u001B[43m]\u001B[49m\u001B[43m,\u001B[49m\u001B[43m \u001B[49m\u001B[43mmodel\u001B[49m\u001B[38;5;241;43m=\u001B[39;49m\u001B[38;5;124;43m'\u001B[39;49m\u001B[38;5;124;43mgpt-4o-mini\u001B[39;49m\u001B[38;5;124;43m'\u001B[39;49m\u001B[43m,\u001B[49m\u001B[43m \u001B[49m\u001B[43mtools\u001B[49m\u001B[38;5;241;43m=\u001B[39;49m\u001B[38;5;28;43mself\u001B[39;49m\u001B[38;5;241;43m.\u001B[39;49m\u001B[43mtools\u001B[49m\u001B[43m,\u001B[49m\n\u001B[1;32m     53\u001B[0m \u001B[43m                          \u001B[49m\u001B[43mbackground\u001B[49m\u001B[38;5;241;43m=\u001B[39;49m\u001B[43minfo\u001B[49m\u001B[43m,\u001B[49m\u001B[43m \u001B[49m\u001B[43mextra_command\u001B[49m\u001B[38;5;241;43m=\u001B[39;49m\u001B[38;5;124;43m\"\u001B[39;49m\u001B[38;5;124;43m\"\u001B[39;49m\u001B[43m)\u001B[49m\n\u001B[1;32m     54\u001B[0m \u001B[38;5;28;01melse\u001B[39;00m:\n\u001B[1;32m     55\u001B[0m     agent \u001B[38;5;241m=\u001B[39m Agent(name\u001B[38;5;241m=\u001B[39m[i], model\u001B[38;5;241m=\u001B[39m\u001B[38;5;124m'\u001B[39m\u001B[38;5;124mgpt-4o-mini\u001B[39m\u001B[38;5;124m'\u001B[39m, tools\u001B[38;5;241m=\u001B[39m\u001B[38;5;28mself\u001B[39m\u001B[38;5;241m.\u001B[39mtools, background\u001B[38;5;241m=\u001B[39minfo)\n",
      "File \u001B[0;32m~/Documents/AnDsim/sandbox/agent.py:402\u001B[0m, in \u001B[0;36mEntranceAgent.__init__\u001B[0;34m(self, name, model, tools, background, extra_command)\u001B[0m\n\u001B[1;32m    394\u001B[0m \u001B[38;5;28;01mdef\u001B[39;00m \u001B[38;5;21m__init__\u001B[39m(\n\u001B[1;32m    395\u001B[0m         \u001B[38;5;28mself\u001B[39m,\n\u001B[1;32m    396\u001B[0m         name: \u001B[38;5;28mlist\u001B[39m[\u001B[38;5;28mint\u001B[39m],\n\u001B[0;32m   (...)\u001B[0m\n\u001B[1;32m    400\u001B[0m         extra_command: \u001B[38;5;28mstr\u001B[39m,  \u001B[38;5;66;03m# 额外的控制指令或prompt\u001B[39;00m\n\u001B[1;32m    401\u001B[0m ):\n\u001B[0;32m--> 402\u001B[0m     \u001B[38;5;28;43msuper\u001B[39;49m\u001B[43m(\u001B[49m\u001B[43m)\u001B[49m\u001B[38;5;241;43m.\u001B[39;49m\u001B[38;5;21;43m__init__\u001B[39;49m\u001B[43m(\u001B[49m\u001B[43mname\u001B[49m\u001B[38;5;241;43m=\u001B[39;49m\u001B[43mname\u001B[49m\u001B[43m,\u001B[49m\u001B[43m \u001B[49m\u001B[43mmodel\u001B[49m\u001B[38;5;241;43m=\u001B[39;49m\u001B[43mmodel\u001B[49m\u001B[43m,\u001B[49m\u001B[43m \u001B[49m\u001B[43mtools\u001B[49m\u001B[38;5;241;43m=\u001B[39;49m\u001B[43mtools\u001B[49m\u001B[43m,\u001B[49m\u001B[43m \u001B[49m\u001B[43mbackground\u001B[49m\u001B[38;5;241;43m=\u001B[39;49m\u001B[43mbackground\u001B[49m\u001B[43m)\u001B[49m\n\u001B[1;32m    403\u001B[0m     \u001B[38;5;66;03m# self.background = ... ## 重点编辑background，使其执行特定行为\u001B[39;00m\n\u001B[1;32m    404\u001B[0m     extra_command \u001B[38;5;241m=\u001B[39m \u001B[38;5;124m\"\u001B[39m\u001B[38;5;124m\"\u001B[39m\n",
      "File \u001B[0;32m~/Documents/AnDsim/sandbox/agent.py:85\u001B[0m, in \u001B[0;36mAgent.__init__\u001B[0;34m(self, name, model, tools, background)\u001B[0m\n\u001B[1;32m     83\u001B[0m \u001B[38;5;28;01mwith\u001B[39;00m \u001B[38;5;28mopen\u001B[39m(\u001B[38;5;124m\"\u001B[39m\u001B[38;5;124m../config/api_keys.yaml\u001B[39m\u001B[38;5;124m\"\u001B[39m) \u001B[38;5;28;01mas\u001B[39;00m f:\n\u001B[1;32m     84\u001B[0m     config \u001B[38;5;241m=\u001B[39m yaml\u001B[38;5;241m.\u001B[39mload(f, Loader\u001B[38;5;241m=\u001B[39myaml\u001B[38;5;241m.\u001B[39mFullLoader)\n\u001B[0;32m---> 85\u001B[0m openai_api_key \u001B[38;5;241m=\u001B[39m \u001B[43mconfig\u001B[49m\u001B[43m[\u001B[49m\u001B[38;5;124;43m\"\u001B[39;49m\u001B[38;5;124;43mopenai_api_key\u001B[39;49m\u001B[38;5;124;43m\"\u001B[39;49m\u001B[43m]\u001B[49m\n\u001B[1;32m     86\u001B[0m embedding \u001B[38;5;241m=\u001B[39m OpenAIEmbeddings(openai_api_key\u001B[38;5;241m=\u001B[39mopenai_api_key)\n\u001B[1;32m     87\u001B[0m long_memory \u001B[38;5;241m=\u001B[39m []\n",
      "\u001B[0;31mKeyError\u001B[0m: 'openai_api_key'"
     ]
    }
   ],
   "execution_count": 12
  },
  {
   "cell_type": "markdown",
   "source": [
    "单时间步功能测试"
   ],
   "metadata": {
    "collapsed": false
   },
   "id": "ee7fc36c9945651b"
  },
  {
   "cell_type": "code",
   "outputs": [
    {
     "ename": "KeyError",
     "evalue": "'openai_api_key'",
     "output_type": "error",
     "traceback": [
      "\u001B[1;31m---------------------------------------------------------------------------\u001B[0m",
      "\u001B[1;31mKeyError\u001B[0m                                  Traceback (most recent call last)",
      "Cell \u001B[1;32mIn[1], line 9\u001B[0m\n\u001B[0;32m      6\u001B[0m simulator_instance \u001B[38;5;241m=\u001B[39m Simulator(\u001B[38;5;241m2\u001B[39m)\n\u001B[0;32m      8\u001B[0m \u001B[38;5;66;03m# 调用实例方法\u001B[39;00m\n\u001B[1;32m----> 9\u001B[0m \u001B[43msimulator_instance\u001B[49m\u001B[38;5;241;43m.\u001B[39;49m\u001B[43minitialize\u001B[49m\u001B[43m(\u001B[49m\u001B[43m)\u001B[49m\n\u001B[0;32m     11\u001B[0m mess1\u001B[38;5;241m=\u001B[39mAgentMessage([\u001B[38;5;241m2\u001B[39m],[\u001B[38;5;241m1\u001B[39m],\u001B[38;5;124m\"\u001B[39m\u001B[38;5;124m+++++++++\u001B[39m\u001B[38;5;124m\"\u001B[39m)\n\u001B[0;32m     12\u001B[0m mess2\u001B[38;5;241m=\u001B[39mAgentMessage([\u001B[38;5;241m3\u001B[39m],[\u001B[38;5;241m1\u001B[39m],\u001B[38;5;124m\"\u001B[39m\u001B[38;5;124m---------\u001B[39m\u001B[38;5;124m\"\u001B[39m)\n",
      "File \u001B[1;32mD:\\work\\study\\BUPT\\computer\\LLM_learn\\AnDsim\\sandbox\\simulator.py:106\u001B[0m, in \u001B[0;36mSimulator.initialize\u001B[1;34m(self)\u001B[0m\n\u001B[0;32m    101\u001B[0m \u001B[38;5;250m\u001B[39m\u001B[38;5;124;03m\"\"\"\u001B[39;00m\n\u001B[0;32m    102\u001B[0m \u001B[38;5;124;03m将整个模拟器初始化\u001B[39;00m\n\u001B[0;32m    103\u001B[0m \u001B[38;5;124;03m:return:\u001B[39;00m\n\u001B[0;32m    104\u001B[0m \u001B[38;5;124;03m\"\"\"\u001B[39;00m\n\u001B[0;32m    105\u001B[0m \u001B[38;5;28mself\u001B[39m\u001B[38;5;241m.\u001B[39m_init_tools()\n\u001B[1;32m--> 106\u001B[0m \u001B[38;5;28;43mself\u001B[39;49m\u001B[38;5;241;43m.\u001B[39;49m\u001B[43m_init_agents\u001B[49m\u001B[43m(\u001B[49m\u001B[43m)\u001B[49m\n",
      "File \u001B[1;32mD:\\work\\study\\BUPT\\computer\\LLM_learn\\AnDsim\\sandbox\\simulator.py:55\u001B[0m, in \u001B[0;36mSimulator._init_agents\u001B[1;34m(self)\u001B[0m\n\u001B[0;32m     52\u001B[0m info \u001B[38;5;241m=\u001B[39m AgentInfo(\u001B[38;5;241m0.4\u001B[39m, \u001B[38;5;241m0.4\u001B[39m,\n\u001B[0;32m     53\u001B[0m                  \u001B[38;5;28mself\u001B[39m\u001B[38;5;241m.\u001B[39magent_description_path)  \u001B[38;5;66;03m###actively_chat_probability，end_chat_probability 未填写\u001B[39;00m\n\u001B[0;32m     54\u001B[0m \u001B[38;5;28;01mif\u001B[39;00m i \u001B[38;5;241m==\u001B[39m \u001B[38;5;241m0\u001B[39m:\n\u001B[1;32m---> 55\u001B[0m     agent \u001B[38;5;241m=\u001B[39m \u001B[43mEntranceAgent\u001B[49m\u001B[43m(\u001B[49m\n\u001B[0;32m     56\u001B[0m \u001B[43m        \u001B[49m\u001B[43mname\u001B[49m\u001B[38;5;241;43m=\u001B[39;49m\u001B[43mi\u001B[49m\u001B[43m,\u001B[49m\n\u001B[0;32m     57\u001B[0m \u001B[43m        \u001B[49m\u001B[43mmodel\u001B[49m\u001B[38;5;241;43m=\u001B[39;49m\u001B[38;5;124;43m'\u001B[39;49m\u001B[38;5;124;43mgpt-4o-mini\u001B[39;49m\u001B[38;5;124;43m'\u001B[39;49m\u001B[43m,\u001B[49m\n\u001B[0;32m     58\u001B[0m \u001B[43m        \u001B[49m\u001B[43mtools\u001B[49m\u001B[38;5;241;43m=\u001B[39;49m\u001B[38;5;28;43mself\u001B[39;49m\u001B[38;5;241;43m.\u001B[39;49m\u001B[43mtools\u001B[49m\u001B[43m,\u001B[49m\n\u001B[0;32m     59\u001B[0m \u001B[43m        \u001B[49m\u001B[43mbackground\u001B[49m\u001B[38;5;241;43m=\u001B[39;49m\u001B[43minfo\u001B[49m\u001B[43m,\u001B[49m\n\u001B[0;32m     60\u001B[0m \u001B[43m        \u001B[49m\u001B[43msimulator\u001B[49m\u001B[38;5;241;43m=\u001B[39;49m\u001B[38;5;28;43mself\u001B[39;49m\u001B[43m,\u001B[49m\n\u001B[0;32m     61\u001B[0m \u001B[43m        \u001B[49m\u001B[43muse_rag\u001B[49m\u001B[38;5;241;43m=\u001B[39;49m\u001B[38;5;28;43mself\u001B[39;49m\u001B[38;5;241;43m.\u001B[39;49m\u001B[43muse_rag\u001B[49m\u001B[43m,\u001B[49m\n\u001B[0;32m     62\u001B[0m \u001B[43m        \u001B[49m\u001B[43mextra_command\u001B[49m\u001B[38;5;241;43m=\u001B[39;49m\u001B[38;5;124;43m\"\u001B[39;49m\u001B[38;5;124;43m\"\u001B[39;49m\u001B[43m,\u001B[49m\n\u001B[0;32m     63\u001B[0m \u001B[43m    \u001B[49m\u001B[43m)\u001B[49m\n\u001B[0;32m     64\u001B[0m \u001B[38;5;28;01melse\u001B[39;00m:\n\u001B[0;32m     65\u001B[0m     agent \u001B[38;5;241m=\u001B[39m Agent(\n\u001B[0;32m     66\u001B[0m         name\u001B[38;5;241m=\u001B[39mi,\n\u001B[0;32m     67\u001B[0m         model\u001B[38;5;241m=\u001B[39m\u001B[38;5;124m'\u001B[39m\u001B[38;5;124mgpt-4o-mini\u001B[39m\u001B[38;5;124m'\u001B[39m,\n\u001B[1;32m   (...)\u001B[0m\n\u001B[0;32m     71\u001B[0m         use_rag\u001B[38;5;241m=\u001B[39m\u001B[38;5;28mself\u001B[39m\u001B[38;5;241m.\u001B[39muse_rag,\n\u001B[0;32m     72\u001B[0m     )\n",
      "File \u001B[1;32mD:\\work\\study\\BUPT\\computer\\LLM_learn\\AnDsim\\sandbox\\agent.py:416\u001B[0m, in \u001B[0;36mEntranceAgent.__init__\u001B[1;34m(self, name, model, tools, background, simulator, use_rag, extra_command)\u001B[0m\n\u001B[0;32m    406\u001B[0m \u001B[38;5;28;01mdef\u001B[39;00m \u001B[38;5;21m__init__\u001B[39m(\n\u001B[0;32m    407\u001B[0m         \u001B[38;5;28mself\u001B[39m,\n\u001B[0;32m    408\u001B[0m         name: \u001B[38;5;28mint\u001B[39m,\n\u001B[1;32m   (...)\u001B[0m\n\u001B[0;32m    414\u001B[0m         extra_command: \u001B[38;5;28mstr\u001B[39m,  \u001B[38;5;66;03m# 额外的控制指令或prompt\u001B[39;00m\n\u001B[0;32m    415\u001B[0m ):\n\u001B[1;32m--> 416\u001B[0m     \u001B[38;5;28;43msuper\u001B[39;49m\u001B[43m(\u001B[49m\u001B[43m)\u001B[49m\u001B[38;5;241;43m.\u001B[39;49m\u001B[38;5;21;43m__init__\u001B[39;49m\u001B[43m(\u001B[49m\n\u001B[0;32m    417\u001B[0m \u001B[43m        \u001B[49m\u001B[43mname\u001B[49m\u001B[38;5;241;43m=\u001B[39;49m\u001B[43mname\u001B[49m\u001B[43m,\u001B[49m\n\u001B[0;32m    418\u001B[0m \u001B[43m        \u001B[49m\u001B[43mmodel\u001B[49m\u001B[38;5;241;43m=\u001B[39;49m\u001B[43mmodel\u001B[49m\u001B[43m,\u001B[49m\n\u001B[0;32m    419\u001B[0m \u001B[43m        \u001B[49m\u001B[43mtools\u001B[49m\u001B[38;5;241;43m=\u001B[39;49m\u001B[43mtools\u001B[49m\u001B[43m,\u001B[49m\n\u001B[0;32m    420\u001B[0m \u001B[43m        \u001B[49m\u001B[43mbackground\u001B[49m\u001B[38;5;241;43m=\u001B[39;49m\u001B[43mbackground\u001B[49m\u001B[43m,\u001B[49m\n\u001B[0;32m    421\u001B[0m \u001B[43m        \u001B[49m\u001B[43msimulator\u001B[49m\u001B[38;5;241;43m=\u001B[39;49m\u001B[43msimulator\u001B[49m\u001B[43m,\u001B[49m\n\u001B[0;32m    422\u001B[0m \u001B[43m        \u001B[49m\u001B[43muse_rag\u001B[49m\u001B[38;5;241;43m=\u001B[39;49m\u001B[43muse_rag\u001B[49m\u001B[43m,\u001B[49m\n\u001B[0;32m    423\u001B[0m \u001B[43m    \u001B[49m\u001B[43m)\u001B[49m\n\u001B[0;32m    424\u001B[0m     \u001B[38;5;66;03m# self.background = ... ## 重点编辑background，使其执行特定行为\u001B[39;00m\n\u001B[0;32m    425\u001B[0m     extra_command \u001B[38;5;241m=\u001B[39m \u001B[38;5;124m\"\u001B[39m\u001B[38;5;124m\"\u001B[39m\n",
      "File \u001B[1;32mD:\\work\\study\\BUPT\\computer\\LLM_learn\\AnDsim\\sandbox\\agent.py:93\u001B[0m, in \u001B[0;36mAgent.__init__\u001B[1;34m(self, name, model, tools, background, simulator, use_rag, max_memory)\u001B[0m\n\u001B[0;32m     91\u001B[0m \u001B[38;5;28;01mwith\u001B[39;00m \u001B[38;5;28mopen\u001B[39m(\u001B[38;5;124m\"\u001B[39m\u001B[38;5;124m../config/api_keys.yaml\u001B[39m\u001B[38;5;124m\"\u001B[39m) \u001B[38;5;28;01mas\u001B[39;00m f:\n\u001B[0;32m     92\u001B[0m     config \u001B[38;5;241m=\u001B[39m yaml\u001B[38;5;241m.\u001B[39mload(f, Loader\u001B[38;5;241m=\u001B[39myaml\u001B[38;5;241m.\u001B[39mFullLoader)\n\u001B[1;32m---> 93\u001B[0m openai_api_key \u001B[38;5;241m=\u001B[39m \u001B[43mconfig\u001B[49m\u001B[43m[\u001B[49m\u001B[38;5;124;43m\"\u001B[39;49m\u001B[38;5;124;43mopenai_api_key\u001B[39;49m\u001B[38;5;124;43m\"\u001B[39;49m\u001B[43m]\u001B[49m\n\u001B[0;32m     94\u001B[0m embedding \u001B[38;5;241m=\u001B[39m OpenAIEmbeddings(openai_api_key\u001B[38;5;241m=\u001B[39mopenai_api_key)\n\u001B[0;32m     95\u001B[0m long_memory \u001B[38;5;241m=\u001B[39m []\n",
      "\u001B[1;31mKeyError\u001B[0m: 'openai_api_key'"
     ]
    }
   ],
   "source": [
    "from sandbox.message import AgentMessage\n",
    "from sandbox.agent import Agent\n",
    "from sandbox.pre_info import AgentInfo\n",
    "from sandbox.simulator import Simulator\n",
    "# 实例化类\n",
    "simulator_instance = Simulator(2,use_rag=False)\n",
    "\n",
    "# 调用实例方法\n",
    "simulator_instance.initialize()\n",
    "\n",
    "mess1=AgentMessage([2],[1],\"+++++++++\")\n",
    "mess2=AgentMessage([3],[1],\"---------\")\n",
    "info = AgentInfo(0.4, 0.4,\"../datasets/agent_preinstall.json\")\n",
    "info.neighbors=[0,2]\n",
    "agent_test=Agent(name=[1], model='gpt-4o-mini', tools=[], background=info,simulator=simulator_instance,use_rag=False)\n",
    "print(agent_test)\n",
    "text_to_consider=agent_test.receive_information()\n",
    "print(text_to_consider)"
   ],
   "metadata": {
    "collapsed": false,
    "ExecuteTime": {
     "end_time": "2024-09-24T10:11:04.387213Z",
     "start_time": "2024-09-24T10:09:35.212215Z"
    }
   },
   "id": "3ab00ea47b460850",
   "execution_count": 1
  },
  {
   "cell_type": "code",
   "outputs": [],
   "source": [],
   "metadata": {
    "collapsed": false
   },
   "id": "8fbf1e4ca1ff8cff",
   "execution_count": null
  }
 ],
 "metadata": {
  "kernelspec": {
   "display_name": "Python 3",
   "language": "python",
   "name": "python3"
  },
  "language_info": {
   "codemirror_mode": {
    "name": "ipython",
    "version": 2
   },
   "file_extension": ".py",
   "mimetype": "text/x-python",
   "name": "python",
   "nbconvert_exporter": "python",
   "pygments_lexer": "ipython2",
   "version": "2.7.6"
  }
 },
 "nbformat": 4,
 "nbformat_minor": 5
}
