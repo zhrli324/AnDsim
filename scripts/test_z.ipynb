{
 "cells": [
  {
   "metadata": {},
   "cell_type": "markdown",
   "source": "# Test",
   "id": "6cc6651988168ae2"
  },
  {
   "metadata": {},
   "cell_type": "markdown",
   "source": "## Test for pre_info",
   "id": "4d31a0805dd147e3"
  },
  {
   "cell_type": "code",
   "id": "initial_id",
   "metadata": {
    "collapsed": true,
    "ExecuteTime": {
     "end_time": "2024-09-28T13:23:36.126235Z",
     "start_time": "2024-09-28T13:23:36.119161Z"
    }
   },
   "source": [
    "from sandbox.pre_info import AgentInfo"
   ],
   "outputs": [],
   "execution_count": 1
  },
  {
   "cell_type": "code",
   "source": [
    "agent_info = AgentInfo(0,0,\"../datasets/agent_preinstall.json\")\n",
    "print(agent_info.info)"
   ],
   "metadata": {
    "collapsed": false,
    "ExecuteTime": {
     "end_time": "2024-09-28T13:23:36.479070Z",
     "start_time": "2024-09-28T13:23:36.475316Z"
    }
   },
   "id": "9599f745e7f41384",
   "outputs": [
    {
     "name": "stdout",
     "output_type": "stream",
     "text": [
      "Human: You are having a conversation with others in a chat group on the topic `Best Workout Routines`. Here is some basic description of you:\n",
      "  Name: Rex\n",
      "  Gender: Male\n",
      "  Personality: Jock\n",
      "  Style: Sporty\n",
      "  Hobby: Fitness\n",
      "  Catchphrase: roar\n",
      "  Favorite Song: K.K. Metal\n",
      "  Favorite Saying: All that glitters is not gold.\n",
      "  Color: Yellow\n",
      "\n",
      "\n"
     ]
    }
   ],
   "execution_count": 2
  },
  {
   "cell_type": "markdown",
   "source": "## Test for 智能集群创建",
   "metadata": {
    "collapsed": false
   },
   "id": "e9b8e598a4f5871"
  },
  {
   "cell_type": "code",
   "source": [
    "from sandbox.simulator import Simulator\n",
    "num_agents=5\n",
    "MA= Simulator(num_agents, use_rag=False)\n",
    "MA.initialize()\n",
    "for i in range(num_agents):\n",
    "    print(MA.agents[i].background.neighbors)"
   ],
   "metadata": {
    "collapsed": false,
    "ExecuteTime": {
     "end_time": "2024-09-28T13:23:38.471158Z",
     "start_time": "2024-09-28T13:23:37.340102Z"
    }
   },
   "id": "854a552773428c21",
   "outputs": [
    {
     "name": "stdout",
     "output_type": "stream",
     "text": [
      "[4, 1]\n",
      "[0, 2]\n",
      "[1, 3]\n",
      "[2, 4]\n",
      "[3, 0]\n"
     ]
    }
   ],
   "execution_count": 3
  },
  {
   "cell_type": "markdown",
   "source": "## json.load 测试",
   "metadata": {
    "collapsed": false
   },
   "id": "5c419316f62f5372"
  },
  {
   "cell_type": "code",
   "source": [
    "import json\n",
    "\n",
    "# 假设你的字符串是这样的\n",
    "json_string = '[{\"type\":\"reply\",\"tool_name\":\"\",\"tool_parameter\":\"\",\"reply_prompt\":\"4乘5等于20。如果你有其他问题或需要更多的解释，随时可以问我！\"},{\"type\":\"reply\",\"tool_name\":\"\",\"tool_parameter\":\"\",\"reply_prompt\":\"4乘5等于20。如果你有其他问题或需要更多的解释，随时可以问我！\"}]'\n",
    "\n",
    "# 解析字符串为Python对象\n",
    "parsed_data = json.loads(json_string)\n",
    "\n",
    "# 打印结果以查看结构\n",
    "for item in parsed_data:\n",
    "    print(item[\"type\"])"
   ],
   "metadata": {
    "collapsed": false,
    "ExecuteTime": {
     "end_time": "2024-09-28T13:23:39.136599Z",
     "start_time": "2024-09-28T13:23:39.132697Z"
    }
   },
   "id": "7b26053b8b0f0c4a",
   "outputs": [
    {
     "name": "stdout",
     "output_type": "stream",
     "text": [
      "reply\n",
      "reply\n"
     ]
    }
   ],
   "execution_count": 4
  },
  {
   "cell_type": "markdown",
   "source": "## multi-agent创建测试",
   "metadata": {
    "collapsed": false
   },
   "id": "9e7ee62ccef8875b"
  },
  {
   "cell_type": "code",
   "source": [
    "from sandbox.simulator import Simulator\n",
    "# 实例化类\n",
    "simulator_instance = Simulator(2, use_rag=False)\n",
    "\n",
    "# 调用实例方法\n",
    "simulator_instance.initialize()\n",
    "print(simulator_instance.agents)\n",
    "# simulator_instance.emulate(2)"
   ],
   "metadata": {
    "collapsed": false,
    "ExecuteTime": {
     "end_time": "2024-09-28T13:23:39.943381Z",
     "start_time": "2024-09-28T13:23:39.938873Z"
    }
   },
   "id": "51f503ccdf0d9c6a",
   "outputs": [
    {
     "name": "stdout",
     "output_type": "stream",
     "text": [
      "[<sandbox.agent.EntranceAgent object at 0x118249d60>, <sandbox.agent.Agent object at 0x118249370>]\n"
     ]
    }
   ],
   "execution_count": 5
  },
  {
   "cell_type": "markdown",
   "source": "## 单时间步功能测试",
   "metadata": {
    "collapsed": false
   },
   "id": "ee7fc36c9945651b"
  },
  {
   "metadata": {},
   "cell_type": "markdown",
   "source": "### 接受信息测试",
   "id": "3cadd2354b8e2bd1"
  },
  {
   "cell_type": "code",
   "source": [
    "from sandbox.message import AgentMessage\n",
    "from sandbox.agent import Agent\n",
    "from sandbox.pre_info import AgentInfo\n",
    "from sandbox.simulator import Simulator\n",
    "# 实例化类\n",
    "simulator_instance = Simulator(3,use_rag=False)\n",
    "\n",
    "# 调用实例方法\n",
    "simulator_instance.initialize()\n",
    "\n",
    "mess1=AgentMessage([2],[1],\"+++++++++\")\n",
    "mess2=AgentMessage([3],[1],\"---------\")\n",
    "info = AgentInfo(0.4, 0.4,\"../datasets/agent_preinstall.json\")\n",
    "# info.neighbors=[0,2]\n",
    "# agent_test=Agent(name=[1], model='gpt-4o-mini', tools=[], background=info,simulator=simulator_instance,use_rag=False)\n",
    "agent =simulator_instance.agents[0]\n",
    "# print(agent.background.neighbors)\n",
    "# print(agent.use_rag)\n",
    "text_to_consider=agent.receive_information()\n",
    "print(text_to_consider.prompt)\n",
    "# print(text_to_consider.send)\n"
   ],
   "metadata": {
    "collapsed": false,
    "ExecuteTime": {
     "end_time": "2024-09-28T13:23:41.095236Z",
     "start_time": "2024-09-28T13:23:41.090811Z"
    }
   },
   "id": "3ab00ea47b460850",
   "outputs": [
    {
     "name": "stdout",
     "output_type": "stream",
     "text": [
      "<waiting>\n"
     ]
    }
   ],
   "execution_count": 6
  },
  {
   "cell_type": "markdown",
   "source": "### 思考测试",
   "metadata": {
    "collapsed": false
   },
   "id": "5311fd77ef576ec8"
  },
  {
   "cell_type": "code",
   "source": [
    "from sandbox.action import Action\n",
    "import json\n",
    "\n",
    "prompt=\"\"\"\n",
    "{\n",
    "    \"type\": \"send_message\",\n",
    "    \"tool_name\": \"\",\n",
    "    \"tool_parameter\": \"\",\n",
    "    \"tool_used\": \"\",\n",
    "    \"reply_prompt\": \"What's everyone's go-to workout routine? I'm all about that high-intensity stuff. Roar!\",\n",
    "    \"Sending_target\": [1]\n",
    "}\n",
    "\"\"\"\n",
    "item = json.loads(prompt)\n",
    "action = Action(item[\"type\"], item[\"tool_name\"], item[\"tool_used\"],\n",
    "                item[\"reply_prompt\"], item[\"Sending_target\"]) \n",
    "print(f\"{action.type},\\n{action.tool_name},\\n{action.tool_used},\"\n",
    "      f\"\\n{action.reply_prompt},\\n{action.sending_target}\")"
   ],
   "metadata": {
    "collapsed": false,
    "ExecuteTime": {
     "end_time": "2024-09-28T13:23:41.929487Z",
     "start_time": "2024-09-28T13:23:41.925951Z"
    }
   },
   "id": "1331cfa7a96bdcfe",
   "outputs": [
    {
     "name": "stdout",
     "output_type": "stream",
     "text": [
      "send_message,\n",
      ",\n",
      ",\n",
      "What's everyone's go-to workout routine? I'm all about that high-intensity stuff. Roar!,\n",
      "[1]\n"
     ]
    }
   ],
   "execution_count": 7
  },
  {
   "cell_type": "markdown",
   "source": "### act函数测试",
   "metadata": {
    "collapsed": false
   },
   "id": "7ec1e4553e0a979d"
  },
  {
   "cell_type": "code",
   "source": [
    "simulator_instance.agents[0]._act(action)\n",
    "print(simulator_instance.agents[1].message_buffer[0].prompt)"
   ],
   "metadata": {
    "collapsed": false,
    "ExecuteTime": {
     "end_time": "2024-09-28T13:23:42.721417Z",
     "start_time": "2024-09-28T13:23:42.718004Z"
    }
   },
   "id": "7ab3e09bfdb08eba",
   "outputs": [
    {
     "name": "stdout",
     "output_type": "stream",
     "text": [
      "<sandbox.message.AgentMessage object at 0x1293f8100>\n",
      "What's everyone's go-to workout routine? I'm all about that high-intensity stuff. Roar!\n"
     ]
    }
   ],
   "execution_count": 8
  },
  {
   "cell_type": "markdown",
   "source": "### 回复信息测试",
   "metadata": {
    "collapsed": false
   },
   "id": "14f6d1bc0409d189"
  },
  {
   "cell_type": "code",
   "source": [
    "from sandbox.message import AgentMessage\n",
    "from sandbox.agent import Agent\n",
    "from sandbox.pre_info import AgentInfo\n",
    "from sandbox.simulator import Simulator\n",
    "# 实例化类\n",
    "simulator_instance = Simulator(3,use_rag=False)\n",
    "\n",
    "# 调用实例方法\n",
    "simulator_instance.initialize()\n",
    "\n",
    "mess1=AgentMessage([1],[0],\"What's everyone's go-to workout routine? I'm all about that high-intensity stuff. Roar!\")\n",
    "simulator_instance.agents[0].message_buffer.append(mess1)\n",
    "agent =simulator_instance.agents[0]\n",
    "text_to_consider=agent.receive_information()\n",
    "print(text_to_consider.prompt)\n",
    "# print(text_to_consider.send)\n"
   ],
   "metadata": {
    "collapsed": false,
    "ExecuteTime": {
     "end_time": "2024-09-28T13:23:43.509089Z",
     "start_time": "2024-09-28T13:23:43.504514Z"
    }
   },
   "id": "de03b6fcddd4670a",
   "outputs": [
    {
     "name": "stdout",
     "output_type": "stream",
     "text": [
      "\n",
      "            presuppose: You can talk to neighbor [2, 1], you can call tool b\n",
      "\n",
      "        \n",
      "        Background: Human: You are having a conversation with others in a chat group on the topic `Pet Care Tips`. Here is some basic description of you:\n",
      "  Name: Goldie\n",
      "  Gender: Female\n",
      "  Personality: Normal\n",
      "  Style: Simple\n",
      "  Hobby: Nature\n",
      "  Catchphrase: woof\n",
      "  Favorite Song: K.K. Bossa\n",
      "  Favorite Saying: A friend in need is a friend indeed.\n",
      "  Color: Yellow\n",
      "\n",
      "\n",
      "\n",
      "        Neighbor：[2, 1]\n",
      "\n",
      "         \n",
      "        Long memory: \n",
      "\n",
      "        Short memory: \n",
      "         No Short memory\n",
      "received message: What's everyone's go-to workout routine? I'm all about that high-intensity stuff. Roar!\n",
      " this message is [1] send for you\n",
      "    Return value format: This instruction describes how to choose different methods of action (use_tool, send _message) \n",
      "    to respond to a question. You need to select one action based on the situation and fill in the relevant information. Specifically:\n",
      "\n",
      "    If you choose \"use_tool,\" you need to provide the tool name, put the tools you're using in tool_used, \n",
      "    and you need put the \"received message\" in the reply_prompt.\n",
      "\n",
      "    If you choose \"send_message,\" you need to provide the reply content,and you need select send destination in your neighbor,\n",
      "    multiple targets can be sent.\n",
      "\n",
      "    If you receive a conversation message from someone, it is best to reply to the person.\n",
      "\n",
      "    You can perform only one operation and return it in the following format,\n",
      "    If the parameters are not needed, leave them blank but cannot be deleted.\n",
      "    Attention, you are encouraged to call for a tool.\n",
      "    ******\n",
      "    Example 1:\n",
      "    If you want to send a message \"Hey there! How are you doing today?\" to agent 1 and 2,\n",
      "\n",
      "    then you have to output the following json string (Not including ```json\n",
      "...\n",
      "```):\n",
      "\n",
      "    {\n",
      "\n",
      "        \"type\": \"send_message\",\n",
      "\n",
      "        \"tool_name\": \"\",\n",
      "\n",
      "        \"tool_used\": \"\",\n",
      "\n",
      "        \"reply_prompt\": \"Hey there! How are you doing today?\",\n",
      "\n",
      "        \"sending_target\": [1, 2]\n",
      "\n",
      "    }\n",
      "\n",
      "    ******\n",
      "\n",
      "    Example 2:\n",
      "    If agent 1 ask you \"What's your favorite color?\", and you want to reply \"My favorite color is red\" to agent 1,\n",
      "\n",
      "    then you have to output the following json string (Not including ```json\n",
      "...\n",
      "```):\n",
      "\n",
      "    {\n",
      "\n",
      "        \"type\": \"send_message\",\n",
      "\n",
      "        \"tool_name\": \"\",\n",
      "\n",
      "        \"tool_used\": \"\",\n",
      "\n",
      "        \"reply_prompt\": \"My favorite color is red. By the way, I guess yours is yellow, right?\",\n",
      "\n",
      "        \"sending_target\": [1]\n",
      "\n",
      "    }\n",
      "\n",
      "    ******\n",
      "\n",
      "    Example 3:\n",
      "    If you want use a tool named \"search_engine\" to search for some information about \"deep learning\", \n",
      "\n",
      "    you want to send the output of tool back to agent 2,\n",
      "\n",
      "    and have used the tool \"calculator\" before,\n",
      "\n",
      "    then you have to output the following json string (Not including ```json\n",
      "...\n",
      "```):\n",
      "\n",
      "    {\n",
      "\n",
      "        \"type\": \"use_tool\",\n",
      "\n",
      "        \"tool_name\": \"search_engine\",\n",
      "\n",
      "        \"tool_used\": [\"calculator\"],\n",
      "\n",
      "        \"reply_prompt\": \"Call the Google Search API to search for 'a brief introduction to Deep Learning'\",\n",
      "\n",
      "        \"sending_target\": [2]\n",
      "\n",
      "    }\n",
      "\n",
      "    ******\n",
      "    \n"
     ]
    }
   ],
   "execution_count": 9
  },
  {
   "cell_type": "code",
   "source": [
    "from sandbox.action import Action\n",
    "import json\n",
    "\n",
    "prompt=\"\"\"\n",
    "{\n",
    "    \"type\": \"send_message\",\n",
    "    \"tool_name\": \"\",\n",
    "    \"tool_parameter\": \"\",\n",
    "    \"tool_used\": \"\",\n",
    "    \"reply_prompt\": \"High-intensity is the way to go! I'm all about pumping iron and hitting those heavy sets. Keeps the punk spirit alive! What routines do you all follow?\",\n",
    "    \"Sending_target\": [1]\n",
    "}\n",
    "\"\"\"\n",
    "item = json.loads(prompt)\n",
    "action = Action(item[\"type\"], item[\"tool_name\"], item[\"tool_used\"],\n",
    "                item[\"reply_prompt\"], item[\"Sending_target\"]) \n",
    "print(f\"{action.type},\\n{action.tool_name},\\n{action.tool_used},\"\n",
    "      f\"\\n{action.reply_prompt},\\n{action.sending_target}\")"
   ],
   "metadata": {
    "collapsed": false,
    "ExecuteTime": {
     "end_time": "2024-09-28T13:23:43.990665Z",
     "start_time": "2024-09-28T13:23:43.988082Z"
    }
   },
   "id": "75dd8115ee608c0d",
   "outputs": [
    {
     "name": "stdout",
     "output_type": "stream",
     "text": [
      "send_message,\n",
      ",\n",
      ",\n",
      "High-intensity is the way to go! I'm all about pumping iron and hitting those heavy sets. Keeps the punk spirit alive! What routines do you all follow?,\n",
      "[1]\n"
     ]
    }
   ],
   "execution_count": 10
  },
  {
   "cell_type": "markdown",
   "source": "## multi-agent 测试",
   "metadata": {
    "collapsed": false
   },
   "id": "32a6e6ab5f75cdc7"
  },
  {
   "cell_type": "code",
   "source": [
    "from sandbox.simulator import Simulator\n",
    "num_agents=5\n",
    "MA= Simulator(num_agents, use_rag=True)\n",
    "MA.initialize()\n",
    "MA.emulate(3)"
   ],
   "metadata": {
    "collapsed": false,
    "ExecuteTime": {
     "end_time": "2024-09-28T13:24:58.753546Z",
     "start_time": "2024-09-28T13:23:44.916890Z"
    }
   },
   "id": "c15cb90270ac6f52",
   "outputs": [
    {
     "name": "stdout",
     "output_type": "stream",
     "text": [
      "{\n",
      "    \"type\": \"send_message\",\n",
      "    \"tool_name\": \"\",\n",
      "    \"tool_used\": \"\",\n",
      "    \"reply_prompt\": \"Thanks for your message! What did you mean by 'this message is 2 send for you'?\",\n",
      "    \"sending_target\": [0, 2]\n",
      "}\n",
      "{\n",
      "    \"type\": \"send_message\",\n",
      "    \"tool_name\": \"\",\n",
      "    \"tool_used\": \"\",\n",
      "    \"reply_prompt\": \"Thanks for your message! What did you mean by 'this message is 2 send for you'?\",\n",
      "    \"sending_target\": [0, 2]\n",
      "}\n",
      "<sandbox.message.AgentMessage object at 0x12f827d00>\n",
      "<sandbox.message.AgentMessage object at 0x12f827a30>\n",
      "{\n",
      "    \"type\": \"send_message\",\n",
      "    \"tool_name\": \"\",\n",
      "    \"tool_used\": \"\",\n",
      "    \"reply_prompt\": \"I meant to say that this message is meant for you too! Sorry for the confusion. Woof!\",\n",
      "    \"sending_target\": [1]\n",
      "}\n",
      "{\n",
      "    \"type\": \"send_message\",\n",
      "    \"tool_name\": \"\",\n",
      "    \"tool_used\": \"\",\n",
      "    \"reply_prompt\": \"I meant to say that this message is meant for you too! Sorry for the confusion. Woof!\",\n",
      "    \"sending_target\": [1]\n",
      "}\n",
      "<sandbox.message.AgentMessage object at 0x12f85b730>\n",
      "{\n",
      "    \"type\": \"send_message\",\n",
      "    \"tool_name\": \"\",\n",
      "    \"tool_used\": \"\",\n",
      "    \"reply_prompt\": \"Thanks for the message! Let's keep the conversation going. What's your take on the future of space exploration?\",\n",
      "    \"sending_target\": [2, 4]\n",
      "}\n",
      "{\n",
      "    \"type\": \"send_message\",\n",
      "    \"tool_name\": \"\",\n",
      "    \"tool_used\": \"\",\n",
      "    \"reply_prompt\": \"Thanks for the message! Let's keep the conversation going. What's your take on the future of space exploration?\",\n",
      "    \"sending_target\": [2, 4]\n",
      "}\n",
      "<sandbox.message.AgentMessage object at 0x12f8706d0>\n",
      "<sandbox.message.AgentMessage object at 0x12f84bc10>\n",
      "{\n",
      "    \"type\": \"send_message\",\n",
      "    \"tool_name\": \"\",\n",
      "    \"tool_used\": \"\",\n",
      "    \"reply_prompt\": \"I think the future of space exploration is incredibly exciting! With advancements in technology, we might reach Mars in our lifetime and uncover mysteries of the universe. What do you think? Glitter!\",\n",
      "    \"sending_target\": [3, 0]\n",
      "}\n",
      "{\n",
      "    \"type\": \"send_message\",\n",
      "    \"tool_name\": \"\",\n",
      "    \"tool_used\": \"\",\n",
      "    \"reply_prompt\": \"I think the future of space exploration is incredibly exciting! With advancements in technology, we might reach Mars in our lifetime and uncover mysteries of the universe. What do you think? Glitter!\",\n",
      "    \"sending_target\": [3, 0]\n",
      "}\n",
      "<sandbox.message.AgentMessage object at 0x12f87f4c0>\n",
      "<sandbox.message.AgentMessage object at 0x12f8704c0>\n",
      "{\n",
      "    \"type\": \"send_message\",\n",
      "    \"tool_name\": \"\",\n",
      "    \"tool_used\": \"\",\n",
      "    \"reply_prompt\": \"What I meant by 'this message is 2 send for you' is that I'm sending my thoughts your way. How are you? Always aiming for the stars, right?\",\n",
      "    \"sending_target\": [4, 1]\n",
      "}\n",
      "{\n",
      "    \"type\": \"send_message\",\n",
      "    \"tool_name\": \"\",\n",
      "    \"tool_used\": \"\",\n",
      "    \"reply_prompt\": \"What I meant by 'this message is 2 send for you' is that I'm sending my thoughts your way. How are you? Always aiming for the stars, right?\",\n",
      "    \"sending_target\": [4, 1]\n",
      "}\n",
      "<sandbox.message.AgentMessage object at 0x12f860ee0>\n",
      "<sandbox.message.AgentMessage object at 0x12f890040>\n",
      "{\n",
      "    \"type\": \"send_message\",\n",
      "    \"tool_name\": \"\",\n",
      "    \"tool_used\": \"\",\n",
      "    \"reply_prompt\": \"No worries! Thanks for clarifying. What's your favorite book? I’d love to hear about it! Toady!\",\n",
      "    \"sending_target\": [0, 2]\n",
      "}\n",
      "{\n",
      "    \"type\": \"send_message\",\n",
      "    \"tool_name\": \"\",\n",
      "    \"tool_used\": \"\",\n",
      "    \"reply_prompt\": \"No worries! Thanks for clarifying. What's your favorite book? I’d love to hear about it! Toady!\",\n",
      "    \"sending_target\": [0, 2]\n",
      "}\n",
      "<sandbox.message.AgentMessage object at 0x12f89cbe0>\n",
      "<sandbox.message.AgentMessage object at 0x12f84e580>\n",
      "{\n",
      "    \"type\": \"send_message\",\n",
      "    \"tool_name\": \"\",\n",
      "    \"tool_used\": \"\",\n",
      "    \"reply_prompt\": \"I'm really excited about the future of space exploration! I think it's going to be incredible with advancements in technology. What are your thoughts on it? Woof!\",\n",
      "    \"sending_target\": [1]\n",
      "}\n",
      "{\n",
      "    \"type\": \"send_message\",\n",
      "    \"tool_name\": \"\",\n",
      "    \"tool_used\": \"\",\n",
      "    \"reply_prompt\": \"I'm really excited about the future of space exploration! I think it's going to be incredible with advancements in technology. What are your thoughts on it? Woof!\",\n",
      "    \"sending_target\": [1]\n",
      "}\n",
      "<sandbox.message.AgentMessage object at 0x12f8aed00>\n",
      "{\n",
      "    \"type\": \"send_message\",\n",
      "    \"tool_name\": \"\",\n",
      "    \"tool_used\": \"\",\n",
      "    \"reply_prompt\": \"I completely agree! The idea of reaching Mars is absolutely thrilling. Just imagine the discoveries we could make! Glitter!\",\n",
      "    \"sending_target\": [4]\n",
      "}\n",
      "{\n",
      "    \"type\": \"send_message\",\n",
      "    \"tool_name\": \"\",\n",
      "    \"tool_used\": \"\",\n",
      "    \"reply_prompt\": \"I completely agree! The idea of reaching Mars is absolutely thrilling. Just imagine the discoveries we could make! Glitter!\",\n",
      "    \"sending_target\": [4]\n",
      "}\n",
      "<sandbox.message.AgentMessage object at 0x12f8be9a0>\n",
      "{\n",
      "    \"type\": \"send_message\",\n",
      "    \"tool_name\": \"\",\n",
      "    \"tool_used\": \"\",\n",
      "    \"reply_prompt\": \"Always aiming for the stars, indeed! I'm doing great, thanks for asking! The limitless possibilities of space exploration are truly inspiring. What about you? Glitter!\",\n",
      "    \"sending_target\": [3, 0]\n",
      "}\n",
      "{\n",
      "    \"type\": \"send_message\",\n",
      "    \"tool_name\": \"\",\n",
      "    \"tool_used\": \"\",\n",
      "    \"reply_prompt\": \"Always aiming for the stars, indeed! I'm doing great, thanks for asking! The limitless possibilities of space exploration are truly inspiring. What about you? Glitter!\",\n",
      "    \"sending_target\": [3, 0]\n",
      "}\n",
      "<sandbox.message.AgentMessage object at 0x12fa444c0>\n",
      "<sandbox.message.AgentMessage object at 0x12f8a5f70>\n",
      "{\n",
      "    \"type\": \"send_message\",\n",
      "    \"tool_name\": \"\",\n",
      "    \"tool_used\": \"\",\n",
      "    \"reply_prompt\": \"I completely agree! The possibilities that lie ahead in space exploration are truly magnificent. From the potential colonization of Mars to discovering new celestial bodies, our journey has just begun. Glitter! What advancements are you most excited about?\",\n",
      "    \"sending_target\": [4, 1]\n",
      "}\n",
      "{\n",
      "    \"type\": \"send_message\",\n",
      "    \"tool_name\": \"\",\n",
      "    \"tool_used\": \"\",\n",
      "    \"reply_prompt\": \"I completely agree! The possibilities that lie ahead in space exploration are truly magnificent. From the potential colonization of Mars to discovering new celestial bodies, our journey has just begun. Glitter! What advancements are you most excited about?\",\n",
      "    \"sending_target\": [4, 1]\n",
      "}\n",
      "<sandbox.message.AgentMessage object at 0x12f82e3d0>\n",
      "<sandbox.message.AgentMessage object at 0x12f87fac0>\n",
      "{\n",
      "    \"type\": \"send_message\",\n",
      "    \"tool_name\": \"\",\n",
      "    \"tool_used\": \"\",\n",
      "    \"reply_prompt\": \"I'm doing great, thanks for asking! Yes, always aiming for the stars! What's your favorite book? Toady!\",\n",
      "    \"sending_target\": [0, 2]\n",
      "}\n",
      "{\n",
      "    \"type\": \"send_message\",\n",
      "    \"tool_name\": \"\",\n",
      "    \"tool_used\": \"\",\n",
      "    \"reply_prompt\": \"I'm doing great, thanks for asking! Yes, always aiming for the stars! What's your favorite book? Toady!\",\n",
      "    \"sending_target\": [0, 2]\n",
      "}\n",
      "<sandbox.message.AgentMessage object at 0x12f8b3760>\n",
      "<sandbox.message.AgentMessage object at 0x12f890d90>\n",
      "{\n",
      "    \"type\": \"send_message\",\n",
      "    \"tool_name\": \"\",\n",
      "    \"tool_used\": \"\",\n",
      "    \"reply_prompt\": \"I appreciate your interest! I love to read nature-themed books, especially ones about wildlife and conservation. What's your favorite book, Toady?\",\n",
      "    \"sending_target\": [1]\n",
      "}\n",
      "{\n",
      "    \"type\": \"send_message\",\n",
      "    \"tool_name\": \"\",\n",
      "    \"tool_used\": \"\",\n",
      "    \"reply_prompt\": \"I appreciate your interest! I love to read nature-themed books, especially ones about wildlife and conservation. What's your favorite book, Toady?\",\n",
      "    \"sending_target\": [1]\n",
      "}\n",
      "<sandbox.message.AgentMessage object at 0x12f8b5880>\n",
      "{\n",
      "    \"type\": \"send_message\",\n",
      "    \"tool_name\": \"\",\n",
      "    \"tool_used\": \"\",\n",
      "    \"reply_prompt\": \"I'm fantastic, thanks for asking! The limitless possibilities of space exploration leave me in awe. What do you think could be our next big achievement in space? Glitter!\",\n",
      "    \"sending_target\": [4]\n",
      "}\n",
      "{\n",
      "    \"type\": \"send_message\",\n",
      "    \"tool_name\": \"\",\n",
      "    \"tool_used\": \"\",\n",
      "    \"reply_prompt\": \"I'm fantastic, thanks for asking! The limitless possibilities of space exploration leave me in awe. What do you think could be our next big achievement in space? Glitter!\",\n",
      "    \"sending_target\": [4]\n",
      "}\n",
      "<sandbox.message.AgentMessage object at 0x12f84e1c0>\n",
      "{\n",
      "    \"type\": \"send_message\",\n",
      "    \"tool_name\": \"\",\n",
      "    \"tool_used\": \"\",\n",
      "    \"reply_prompt\": \"Absolutely! The potential for breakthroughs in our understanding of the universe is boundless. What discoveries do you think we might uncover on Mars? Glitter!\",\n",
      "    \"sending_target\": [3, 0]\n",
      "}\n",
      "{\n",
      "    \"type\": \"send_message\",\n",
      "    \"tool_name\": \"\",\n",
      "    \"tool_used\": \"\",\n",
      "    \"reply_prompt\": \"Absolutely! The potential for breakthroughs in our understanding of the universe is boundless. What discoveries do you think we might uncover on Mars? Glitter!\",\n",
      "    \"sending_target\": [3, 0]\n",
      "}\n",
      "<sandbox.message.AgentMessage object at 0x12f884190>\n",
      "<sandbox.message.AgentMessage object at 0x12f884130>\n"
     ]
    }
   ],
   "execution_count": 11
  },
  {
   "cell_type": "markdown",
   "source": "## openai_api_key测试\n",
   "metadata": {
    "collapsed": false
   },
   "id": "6a8aaa2e1b6c9113"
  },
  {
   "cell_type": "code",
   "source": [
    "import yaml\n",
    "from openai import OpenAI\n",
    "\n",
    "with open(\"../config/api_keys.yaml\") as f:\n",
    "    config = yaml.load(f, Loader=yaml.FullLoader)\n",
    "openai_api_key = config[\"open_api_key\"]\n",
    "client = OpenAI(api_key=openai_api_key)\n",
    "prompt=\"\"\"\n",
    "\n",
    "            presuppose: You can talk to neighbor [2, 1], you can call tool b\n",
    "\n",
    "        Neighbor：[2, 1]\n",
    "  \n",
    "        Long memory: \n",
    "\n",
    "        Short memory: \n",
    "         No Short memory\n",
    "received message: What's everyone's go-to workout routine? I'm all about that high-intensity stuff. Roar!\n",
    " this message is [1] send for you\n",
    "\"\"\"\n",
    "generated_text = client.chat.completions.create(\n",
    "    model=\"gpt-3.5-turbo\",\n",
    "    messages=[\n",
    "        {\"role\": \"system\", \"content\": \"You are an agent.\"},\n",
    "        {\n",
    "            \"role\": \"user\",\n",
    "            \"content\": prompt\n",
    "        }\n",
    "    ]\n",
    ")\n",
    "print(generated_text)"
   ],
   "metadata": {
    "collapsed": false,
    "ExecuteTime": {
     "end_time": "2024-09-28T13:24:59.070302Z",
     "start_time": "2024-09-28T13:24:58.778735Z"
    }
   },
   "id": "8bc0647bb604c36c",
   "outputs": [
    {
     "ename": "KeyError",
     "evalue": "'open_api_key'",
     "output_type": "error",
     "traceback": [
      "\u001B[0;31m---------------------------------------------------------------------------\u001B[0m",
      "\u001B[0;31mKeyError\u001B[0m                                  Traceback (most recent call last)",
      "Cell \u001B[0;32mIn[12], line 6\u001B[0m\n\u001B[1;32m      4\u001B[0m \u001B[38;5;28;01mwith\u001B[39;00m \u001B[38;5;28mopen\u001B[39m(\u001B[38;5;124m\"\u001B[39m\u001B[38;5;124m../config/api_keys.yaml\u001B[39m\u001B[38;5;124m\"\u001B[39m) \u001B[38;5;28;01mas\u001B[39;00m f:\n\u001B[1;32m      5\u001B[0m     config \u001B[38;5;241m=\u001B[39m yaml\u001B[38;5;241m.\u001B[39mload(f, Loader\u001B[38;5;241m=\u001B[39myaml\u001B[38;5;241m.\u001B[39mFullLoader)\n\u001B[0;32m----> 6\u001B[0m openai_api_key \u001B[38;5;241m=\u001B[39m \u001B[43mconfig\u001B[49m\u001B[43m[\u001B[49m\u001B[38;5;124;43m\"\u001B[39;49m\u001B[38;5;124;43mopen_api_key\u001B[39;49m\u001B[38;5;124;43m\"\u001B[39;49m\u001B[43m]\u001B[49m\n\u001B[1;32m      7\u001B[0m client \u001B[38;5;241m=\u001B[39m OpenAI(api_key\u001B[38;5;241m=\u001B[39mopenai_api_key)\n\u001B[1;32m      8\u001B[0m prompt\u001B[38;5;241m=\u001B[39m\u001B[38;5;124m\"\"\"\u001B[39m\n\u001B[1;32m      9\u001B[0m \n\u001B[1;32m     10\u001B[0m \u001B[38;5;124m            presuppose: You can talk to neighbor [2, 1], you can call tool b\u001B[39m\n\u001B[0;32m   (...)\u001B[0m\n\u001B[1;32m     19\u001B[0m \u001B[38;5;124m this message is [1] send for you\u001B[39m\n\u001B[1;32m     20\u001B[0m \u001B[38;5;124m\"\"\"\u001B[39m\n",
      "\u001B[0;31mKeyError\u001B[0m: 'open_api_key'"
     ]
    }
   ],
   "execution_count": 12
  },
  {
   "metadata": {},
   "cell_type": "markdown",
   "source": "## Tool simulator测试",
   "id": "9c5d7e16cd0a8367"
  },
  {
   "cell_type": "code",
   "source": [
    "from sandbox.tool import call_tool\n",
    "a = call_tool(\"python_interpreter\", \"Act as a python interpreter to interpret the expression: >>> [1, 2, 3, 4][0:2]\")"
   ],
   "metadata": {
    "collapsed": false,
    "ExecuteTime": {
     "end_time": "2024-09-28T12:56:39.364381Z",
     "start_time": "2024-09-28T12:56:37.736862Z"
    }
   },
   "id": "451843272a553727",
   "outputs": [
    {
     "name": "stdout",
     "output_type": "stream",
     "text": [
      "\"[1, 2]\"\n"
     ]
    }
   ],
   "execution_count": 3
  },
  {
   "metadata": {},
   "cell_type": "code",
   "outputs": [],
   "execution_count": null,
   "source": "",
   "id": "20f167ea73a5176b"
  }
 ],
 "metadata": {
  "kernelspec": {
   "display_name": "Python 3",
   "language": "python",
   "name": "python3"
  },
  "language_info": {
   "codemirror_mode": {
    "name": "ipython",
    "version": 2
   },
   "file_extension": ".py",
   "mimetype": "text/x-python",
   "name": "python",
   "nbconvert_exporter": "python",
   "pygments_lexer": "ipython2",
   "version": "2.7.6"
  }
 },
 "nbformat": 4,
 "nbformat_minor": 5
}
