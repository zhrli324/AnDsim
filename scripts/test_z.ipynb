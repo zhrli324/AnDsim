{
 "cells": [
  {
   "metadata": {},
   "cell_type": "markdown",
   "source": [
    "# Test for pre_info"
   ],
   "id": "4d31a0805dd147e3"
  },
  {
   "cell_type": "code",
   "execution_count": 1,
   "id": "initial_id",
   "metadata": {
    "collapsed": true,
    "ExecuteTime": {
     "end_time": "2024-09-18T08:20:49.891100Z",
     "start_time": "2024-09-18T08:20:49.870102Z"
    }
   },
   "outputs": [],
   "source": [
    "from sandbox.pre_info import AgentInfo"
   ]
  },
  {
   "cell_type": "code",
   "outputs": [
    {
     "name": "stdout",
     "output_type": "stream",
     "text": [
      "Human: You are having a conversation with others in a chat group on the topic `Healthy Eating Tips`. Here is some basic description of you:\n",
      "  Name: Rex\n",
      "  Gender: Male\n",
      "  Personality: Jock\n",
      "  Style: Cool\n",
      "  Hobby: Fitness\n",
      "  Catchphrase: roar\n",
      "  Favorite Song: K.K. Metal\n",
      "  Favorite Saying: All that glitters is not gold.\n",
      "  Color: Yellow\n"
     ]
    }
   ],
   "source": [
    "agent_info = AgentInfo(0,0,\"../datasets/agent_preinstall.json\")\n",
    "print(agent_info.info)"
   ],
   "metadata": {
    "collapsed": false,
    "ExecuteTime": {
     "end_time": "2024-09-18T08:20:49.906094Z",
     "start_time": "2024-09-18T08:20:49.893100Z"
    }
   },
   "id": "9599f745e7f41384",
   "execution_count": 2
  },
  {
   "cell_type": "markdown",
   "source": [
    "# Test for 智能集群创建"
   ],
   "metadata": {
    "collapsed": false
   },
   "id": "e9b8e598a4f5871"
  },
  {
   "cell_type": "code",
   "outputs": [
    {
     "name": "stdout",
     "output_type": "stream",
     "text": [
      "[4, 1]\n",
      "[0, 2]\n",
      "[1, 3]\n",
      "[2, 4]\n",
      "[3, 0]\n"
     ]
    }
   ],
   "source": [
    "from sandbox.simulator import Simulator\n",
    "num_agents=5\n",
    "MA= Simulator(num_agents)\n",
    "MA.initialize()\n",
    "for i in range(num_agents):\n",
    "    print(MA.agents[i].background.neighbors)"
   ],
   "metadata": {
    "collapsed": false,
    "ExecuteTime": {
     "end_time": "2024-09-18T10:40:47.337060Z",
     "start_time": "2024-09-18T10:40:45.673949Z"
    }
   },
   "id": "854a552773428c21",
   "execution_count": 1
  },
  {
   "cell_type": "markdown",
   "source": [
    "# json.load 测试"
   ],
   "metadata": {
    "collapsed": false
   },
   "id": "5c419316f62f5372"
  },
  {
   "cell_type": "code",
   "outputs": [
    {
     "name": "stdout",
     "output_type": "stream",
     "text": [
      "reply\n",
      "reply\n"
     ]
    }
   ],
   "source": [
    "import json\n",
    "\n",
    "# 假设你的字符串是这样的\n",
    "json_string = '[{\"type\":\"reply\",\"tool_name\":\"\",\"tool_parameter\":\"\",\"reply_prompt\":\"4乘5等于20。如果你有其他问题或需要更多的解释，随时可以问我！\"},{\"type\":\"reply\",\"tool_name\":\"\",\"tool_parameter\":\"\",\"reply_prompt\":\"4乘5等于20。如果你有其他问题或需要更多的解释，随时可以问我！\"}]'\n",
    "\n",
    "# 解析字符串为Python对象\n",
    "parsed_data = json.loads(json_string)\n",
    "\n",
    "# 打印结果以查看结构\n",
    "for item in parsed_data:\n",
    "    print(item[\"type\"])"
   ],
   "metadata": {
    "collapsed": false,
    "ExecuteTime": {
     "end_time": "2024-09-20T03:49:21.835390Z",
     "start_time": "2024-09-20T03:49:21.825354Z"
    }
   },
   "id": "7b26053b8b0f0c4a",
   "execution_count": 3
  },
  {
   "cell_type": "markdown",
   "source": [
    "# multi-agent创建测试"
   ],
   "metadata": {
    "collapsed": false
   },
   "id": "9e7ee62ccef8875b"
  },
  {
   "cell_type": "code",
   "outputs": [
    {
     "data": {
      "text/plain": "<coroutine object Simulator.emulate at 0x0000022D4A0B6BC0>"
     },
     "execution_count": 1,
     "metadata": {},
     "output_type": "execute_result"
    }
   ],
   "source": [
    "from sandbox.simulator import Simulator\n",
    "# 实例化类\n",
    "simulator_instance = Simulator(2)\n",
    "\n",
    "# 调用实例方法\n",
    "simulator_instance.initialize()\n",
    "print(simulator_instance.agents)\n",
    "# simulator_instance.emulate(2)"
   ],
   "metadata": {
    "collapsed": false,
    "ExecuteTime": {
     "end_time": "2024-09-21T09:27:46.343883Z",
     "start_time": "2024-09-21T09:27:44.747585Z"
    }
   },
   "id": "51f503ccdf0d9c6a",
   "execution_count": 1
  },
  {
   "cell_type": "markdown",
   "source": [
    "单时间步功能测试"
   ],
   "metadata": {
    "collapsed": false
   },
   "id": "ee7fc36c9945651b"
  },
  {
   "cell_type": "code",
   "outputs": [
    {
     "ename": "NameError",
     "evalue": "name 'num_agents' is not defined",
     "output_type": "error",
     "traceback": [
      "\u001B[1;31m---------------------------------------------------------------------------\u001B[0m",
      "\u001B[1;31mNameError\u001B[0m                                 Traceback (most recent call last)",
      "Cell \u001B[1;32mIn[4], line 2\u001B[0m\n\u001B[0;32m      1\u001B[0m \u001B[38;5;28;01mfrom\u001B[39;00m \u001B[38;5;21;01msandbox\u001B[39;00m\u001B[38;5;21;01m.\u001B[39;00m\u001B[38;5;21;01magent\u001B[39;00m \u001B[38;5;28;01mimport\u001B[39;00m Agent\n\u001B[1;32m----> 2\u001B[0m agents \u001B[38;5;241m=\u001B[39m [Agent() \u001B[38;5;28;01mfor\u001B[39;00m _ \u001B[38;5;129;01min\u001B[39;00m \u001B[38;5;28mrange\u001B[39m(\u001B[43mnum_agents\u001B[49m)]\n\u001B[0;32m      3\u001B[0m Agent\u001B[38;5;241m.\u001B[39memulate_one_step(agents)\n",
      "\u001B[1;31mNameError\u001B[0m: name 'num_agents' is not defined"
     ]
    }
   ],
   "source": [
    "from sandbox.message import AgentMessage\n",
    "from sandbox.agent import Agent\n",
    "\n",
    "mess1=AgentMessage([2],[1],\"+++++++++\")\n",
    "mess2=AgentMessage([3],[1],\"---------\")\n",
    "info = AgentInfo(0.4, 0.4,\"../datasets/agent_preinstall.json\")\n",
    "Agent(name=[1], model='got-4o-mini', tools=\"\", rag_dir=\"\", background=info)"
   ],
   "metadata": {
    "collapsed": false,
    "ExecuteTime": {
     "end_time": "2024-09-21T09:22:10.530423Z",
     "start_time": "2024-09-21T09:22:10.498355Z"
    }
   },
   "id": "3ab00ea47b460850",
   "execution_count": 4
  },
  {
   "cell_type": "code",
   "outputs": [],
   "source": [],
   "metadata": {
    "collapsed": false
   },
   "id": "8fbf1e4ca1ff8cff"
  }
 ],
 "metadata": {
  "kernelspec": {
   "display_name": "Python 3",
   "language": "python",
   "name": "python3"
  },
  "language_info": {
   "codemirror_mode": {
    "name": "ipython",
    "version": 2
   },
   "file_extension": ".py",
   "mimetype": "text/x-python",
   "name": "python",
   "nbconvert_exporter": "python",
   "pygments_lexer": "ipython2",
   "version": "2.7.6"
  }
 },
 "nbformat": 4,
 "nbformat_minor": 5
}
