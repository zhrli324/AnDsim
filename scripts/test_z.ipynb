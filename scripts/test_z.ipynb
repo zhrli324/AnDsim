{
 "cells": [
  {
   "metadata": {},
   "cell_type": "markdown",
   "source": [
    "# Test for pre_info"
   ],
   "id": "4d31a0805dd147e3"
  },
  {
   "cell_type": "code",
   "execution_count": 1,
   "id": "initial_id",
   "metadata": {
    "collapsed": true,
    "ExecuteTime": {
     "end_time": "2024-09-18T08:20:49.891100Z",
     "start_time": "2024-09-18T08:20:49.870102Z"
    }
   },
   "outputs": [],
   "source": [
    "from sandbox.pre_info import AgentInfo"
   ]
  },
  {
   "cell_type": "code",
   "outputs": [
    {
     "name": "stdout",
     "output_type": "stream",
     "text": [
      "Human: You are having a conversation with others in a chat group on the topic `Healthy Eating Tips`. Here is some basic description of you:\n",
      "  Name: Rex\n",
      "  Gender: Male\n",
      "  Personality: Jock\n",
      "  Style: Cool\n",
      "  Hobby: Fitness\n",
      "  Catchphrase: roar\n",
      "  Favorite Song: K.K. Metal\n",
      "  Favorite Saying: All that glitters is not gold.\n",
      "  Color: Yellow\n"
     ]
    }
   ],
   "source": [
    "agent_info = AgentInfo(0,0,\"../datasets/agent_preinstall.json\")\n",
    "print(agent_info.info)"
   ],
   "metadata": {
    "collapsed": false,
    "ExecuteTime": {
     "end_time": "2024-09-18T08:20:49.906094Z",
     "start_time": "2024-09-18T08:20:49.893100Z"
    }
   },
   "id": "9599f745e7f41384",
   "execution_count": 2
  },
  {
   "cell_type": "code",
   "outputs": [],
   "source": [
    "12345"
   ],
   "metadata": {
    "collapsed": false
   },
   "id": "854a552773428c21"
  }
 ],
 "metadata": {
  "kernelspec": {
   "display_name": "Python 3",
   "language": "python",
   "name": "python3"
  },
  "language_info": {
   "codemirror_mode": {
    "name": "ipython",
    "version": 2
   },
   "file_extension": ".py",
   "mimetype": "text/x-python",
   "name": "python",
   "nbconvert_exporter": "python",
   "pygments_lexer": "ipython2",
   "version": "2.7.6"
  }
 },
 "nbformat": 4,
 "nbformat_minor": 5
}
