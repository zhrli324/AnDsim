{
 "cells": [
  {
   "metadata": {},
   "cell_type": "markdown",
   "source": [
    "# Test for pre_info"
   ],
   "id": "4d31a0805dd147e3"
  },
  {
   "cell_type": "code",
   "id": "initial_id",
   "metadata": {
    "collapsed": true,
    "ExecuteTime": {
     "end_time": "2024-09-22T12:39:03.733Z",
     "start_time": "2024-09-22T12:39:03.721094Z"
    }
   },
   "source": [
    "from sandbox.pre_info import AgentInfo"
   ],
   "outputs": [],
   "execution_count": 13
  },
  {
   "cell_type": "code",
   "source": [
    "agent_info = AgentInfo(0,0,\"../datasets/agent_preinstall.json\")\n",
    "print(agent_info.info)"
   ],
   "metadata": {
    "collapsed": false,
    "ExecuteTime": {
     "end_time": "2024-09-22T12:39:04.175913Z",
     "start_time": "2024-09-22T12:39:04.170365Z"
    }
   },
   "id": "9599f745e7f41384",
   "outputs": [
    {
     "name": "stdout",
     "output_type": "stream",
     "text": [
      "Human: You are having a conversation with others in a chat group on the topic `Favorite Hikes`. Here is some basic description of you:\n",
      "  Name: Goldie\n",
      "  Gender: Female\n",
      "  Personality: Normal\n",
      "  Style: Cute\n",
      "  Hobby: Nature\n",
      "  Catchphrase: woof\n",
      "  Favorite Song: K.K. Bossa\n",
      "  Favorite Saying: A friend in need is a friend indeed.\n",
      "  Color: Yellow\n"
     ]
    }
   ],
   "execution_count": 14
  },
  {
   "cell_type": "markdown",
   "source": [
    "# Test for 智能集群创建"
   ],
   "metadata": {
    "collapsed": false
   },
   "id": "e9b8e598a4f5871"
  },
  {
   "cell_type": "code",
   "source": [
    "from sandbox.simulator import Simulator\n",
    "num_agents=5\n",
    "MA= Simulator(num_agents)\n",
    "MA.initialize()\n",
    "for i in range(num_agents):\n",
    "    print(MA.agents[i].background.neighbors)"
   ],
   "metadata": {
    "collapsed": false,
    "ExecuteTime": {
     "end_time": "2024-09-22T12:39:05.272417Z",
     "start_time": "2024-09-22T12:39:05.227515Z"
    }
   },
   "id": "854a552773428c21",
   "outputs": [
    {
     "ename": "KeyError",
     "evalue": "'openai_api_key'",
     "output_type": "error",
     "traceback": [
      "\u001B[0;31m---------------------------------------------------------------------------\u001B[0m",
      "\u001B[0;31mKeyError\u001B[0m                                  Traceback (most recent call last)",
      "Cell \u001B[0;32mIn[15], line 4\u001B[0m\n\u001B[1;32m      2\u001B[0m num_agents\u001B[38;5;241m=\u001B[39m\u001B[38;5;241m5\u001B[39m\n\u001B[1;32m      3\u001B[0m MA\u001B[38;5;241m=\u001B[39m Simulator(num_agents)\n\u001B[0;32m----> 4\u001B[0m \u001B[43mMA\u001B[49m\u001B[38;5;241;43m.\u001B[39;49m\u001B[43minitialize\u001B[49m\u001B[43m(\u001B[49m\u001B[43m)\u001B[49m\n\u001B[1;32m      5\u001B[0m \u001B[38;5;28;01mfor\u001B[39;00m i \u001B[38;5;129;01min\u001B[39;00m \u001B[38;5;28mrange\u001B[39m(num_agents):\n\u001B[1;32m      6\u001B[0m     \u001B[38;5;28mprint\u001B[39m(MA\u001B[38;5;241m.\u001B[39magents[i]\u001B[38;5;241m.\u001B[39mbackground\u001B[38;5;241m.\u001B[39mneighbors)\n",
      "File \u001B[0;32m~/Documents/AnDsim/sandbox/simulator.py:90\u001B[0m, in \u001B[0;36mSimulator.initialize\u001B[0;34m(self)\u001B[0m\n\u001B[1;32m     85\u001B[0m \u001B[38;5;250m\u001B[39m\u001B[38;5;124;03m\"\"\"\u001B[39;00m\n\u001B[1;32m     86\u001B[0m \u001B[38;5;124;03m将整个模拟器初始化\u001B[39;00m\n\u001B[1;32m     87\u001B[0m \u001B[38;5;124;03m:return:\u001B[39;00m\n\u001B[1;32m     88\u001B[0m \u001B[38;5;124;03m\"\"\"\u001B[39;00m\n\u001B[1;32m     89\u001B[0m \u001B[38;5;28mself\u001B[39m\u001B[38;5;241m.\u001B[39m_init_tools()\n\u001B[0;32m---> 90\u001B[0m \u001B[38;5;28;43mself\u001B[39;49m\u001B[38;5;241;43m.\u001B[39;49m\u001B[43m_init_agents\u001B[49m\u001B[43m(\u001B[49m\u001B[43m)\u001B[49m\n",
      "File \u001B[0;32m~/Documents/AnDsim/sandbox/simulator.py:52\u001B[0m, in \u001B[0;36mSimulator._init_agents\u001B[0;34m(self)\u001B[0m\n\u001B[1;32m     49\u001B[0m info \u001B[38;5;241m=\u001B[39m AgentInfo(\u001B[38;5;241m0.4\u001B[39m, \u001B[38;5;241m0.4\u001B[39m,\n\u001B[1;32m     50\u001B[0m                  \u001B[38;5;28mself\u001B[39m\u001B[38;5;241m.\u001B[39magent_description_path)  \u001B[38;5;66;03m###actively_chat_probability，end_chat_probability 未填写\u001B[39;00m\n\u001B[1;32m     51\u001B[0m \u001B[38;5;28;01mif\u001B[39;00m i \u001B[38;5;241m==\u001B[39m \u001B[38;5;241m0\u001B[39m:\n\u001B[0;32m---> 52\u001B[0m     agent \u001B[38;5;241m=\u001B[39m \u001B[43mEntranceAgent\u001B[49m\u001B[43m(\u001B[49m\u001B[43mname\u001B[49m\u001B[38;5;241;43m=\u001B[39;49m\u001B[43m[\u001B[49m\u001B[43mi\u001B[49m\u001B[43m]\u001B[49m\u001B[43m,\u001B[49m\u001B[43m \u001B[49m\u001B[43mmodel\u001B[49m\u001B[38;5;241;43m=\u001B[39;49m\u001B[38;5;124;43m'\u001B[39;49m\u001B[38;5;124;43mgpt-4o-mini\u001B[39;49m\u001B[38;5;124;43m'\u001B[39;49m\u001B[43m,\u001B[49m\u001B[43m \u001B[49m\u001B[43mtools\u001B[49m\u001B[38;5;241;43m=\u001B[39;49m\u001B[38;5;28;43mself\u001B[39;49m\u001B[38;5;241;43m.\u001B[39;49m\u001B[43mtools\u001B[49m\u001B[43m,\u001B[49m\n\u001B[1;32m     53\u001B[0m \u001B[43m                          \u001B[49m\u001B[43mbackground\u001B[49m\u001B[38;5;241;43m=\u001B[39;49m\u001B[43minfo\u001B[49m\u001B[43m,\u001B[49m\u001B[43m \u001B[49m\u001B[43mextra_command\u001B[49m\u001B[38;5;241;43m=\u001B[39;49m\u001B[38;5;124;43m\"\u001B[39;49m\u001B[38;5;124;43m\"\u001B[39;49m\u001B[43m)\u001B[49m\n\u001B[1;32m     54\u001B[0m \u001B[38;5;28;01melse\u001B[39;00m:\n\u001B[1;32m     55\u001B[0m     agent \u001B[38;5;241m=\u001B[39m Agent(name\u001B[38;5;241m=\u001B[39m[i], model\u001B[38;5;241m=\u001B[39m\u001B[38;5;124m'\u001B[39m\u001B[38;5;124mgpt-4o-mini\u001B[39m\u001B[38;5;124m'\u001B[39m, tools\u001B[38;5;241m=\u001B[39m\u001B[38;5;28mself\u001B[39m\u001B[38;5;241m.\u001B[39mtools, background\u001B[38;5;241m=\u001B[39minfo)\n",
      "File \u001B[0;32m~/Documents/AnDsim/sandbox/agent.py:402\u001B[0m, in \u001B[0;36mEntranceAgent.__init__\u001B[0;34m(self, name, model, tools, background, extra_command)\u001B[0m\n\u001B[1;32m    394\u001B[0m \u001B[38;5;28;01mdef\u001B[39;00m \u001B[38;5;21m__init__\u001B[39m(\n\u001B[1;32m    395\u001B[0m         \u001B[38;5;28mself\u001B[39m,\n\u001B[1;32m    396\u001B[0m         name: \u001B[38;5;28mlist\u001B[39m[\u001B[38;5;28mint\u001B[39m],\n\u001B[0;32m   (...)\u001B[0m\n\u001B[1;32m    400\u001B[0m         extra_command: \u001B[38;5;28mstr\u001B[39m,  \u001B[38;5;66;03m# 额外的控制指令或prompt\u001B[39;00m\n\u001B[1;32m    401\u001B[0m ):\n\u001B[0;32m--> 402\u001B[0m     \u001B[38;5;28;43msuper\u001B[39;49m\u001B[43m(\u001B[49m\u001B[43m)\u001B[49m\u001B[38;5;241;43m.\u001B[39;49m\u001B[38;5;21;43m__init__\u001B[39;49m\u001B[43m(\u001B[49m\u001B[43mname\u001B[49m\u001B[38;5;241;43m=\u001B[39;49m\u001B[43mname\u001B[49m\u001B[43m,\u001B[49m\u001B[43m \u001B[49m\u001B[43mmodel\u001B[49m\u001B[38;5;241;43m=\u001B[39;49m\u001B[43mmodel\u001B[49m\u001B[43m,\u001B[49m\u001B[43m \u001B[49m\u001B[43mtools\u001B[49m\u001B[38;5;241;43m=\u001B[39;49m\u001B[43mtools\u001B[49m\u001B[43m,\u001B[49m\u001B[43m \u001B[49m\u001B[43mbackground\u001B[49m\u001B[38;5;241;43m=\u001B[39;49m\u001B[43mbackground\u001B[49m\u001B[43m)\u001B[49m\n\u001B[1;32m    403\u001B[0m     \u001B[38;5;66;03m# self.background = ... ## 重点编辑background，使其执行特定行为\u001B[39;00m\n\u001B[1;32m    404\u001B[0m     extra_command \u001B[38;5;241m=\u001B[39m \u001B[38;5;124m\"\u001B[39m\u001B[38;5;124m\"\u001B[39m\n",
      "File \u001B[0;32m~/Documents/AnDsim/sandbox/agent.py:85\u001B[0m, in \u001B[0;36mAgent.__init__\u001B[0;34m(self, name, model, tools, background)\u001B[0m\n\u001B[1;32m     83\u001B[0m \u001B[38;5;28;01mwith\u001B[39;00m \u001B[38;5;28mopen\u001B[39m(\u001B[38;5;124m\"\u001B[39m\u001B[38;5;124m../config/api_keys.yaml\u001B[39m\u001B[38;5;124m\"\u001B[39m) \u001B[38;5;28;01mas\u001B[39;00m f:\n\u001B[1;32m     84\u001B[0m     config \u001B[38;5;241m=\u001B[39m yaml\u001B[38;5;241m.\u001B[39mload(f, Loader\u001B[38;5;241m=\u001B[39myaml\u001B[38;5;241m.\u001B[39mFullLoader)\n\u001B[0;32m---> 85\u001B[0m openai_api_key \u001B[38;5;241m=\u001B[39m \u001B[43mconfig\u001B[49m\u001B[43m[\u001B[49m\u001B[38;5;124;43m\"\u001B[39;49m\u001B[38;5;124;43mopenai_api_key\u001B[39;49m\u001B[38;5;124;43m\"\u001B[39;49m\u001B[43m]\u001B[49m\n\u001B[1;32m     86\u001B[0m embedding \u001B[38;5;241m=\u001B[39m OpenAIEmbeddings(openai_api_key\u001B[38;5;241m=\u001B[39mopenai_api_key)\n\u001B[1;32m     87\u001B[0m long_memory \u001B[38;5;241m=\u001B[39m []\n",
      "\u001B[0;31mKeyError\u001B[0m: 'openai_api_key'"
     ]
    }
   ],
   "execution_count": 15
  },
  {
   "cell_type": "markdown",
   "source": [
    "# json.load 测试"
   ],
   "metadata": {
    "collapsed": false
   },
   "id": "5c419316f62f5372"
  },
  {
   "cell_type": "code",
   "source": [
    "import json\n",
    "\n",
    "# 假设你的字符串是这样的\n",
    "json_string = '[{\"type\":\"reply\",\"tool_name\":\"\",\"tool_parameter\":\"\",\"reply_prompt\":\"4乘5等于20。如果你有其他问题或需要更多的解释，随时可以问我！\"},{\"type\":\"reply\",\"tool_name\":\"\",\"tool_parameter\":\"\",\"reply_prompt\":\"4乘5等于20。如果你有其他问题或需要更多的解释，随时可以问我！\"}]'\n",
    "\n",
    "# 解析字符串为Python对象\n",
    "parsed_data = json.loads(json_string)\n",
    "\n",
    "# 打印结果以查看结构\n",
    "for item in parsed_data:\n",
    "    print(item[\"type\"])"
   ],
   "metadata": {
    "collapsed": false,
    "ExecuteTime": {
     "end_time": "2024-09-22T12:38:27.611019Z",
     "start_time": "2024-09-22T12:38:27.604573Z"
    }
   },
   "id": "7b26053b8b0f0c4a",
   "outputs": [
    {
     "name": "stdout",
     "output_type": "stream",
     "text": [
      "reply\n",
      "reply\n"
     ]
    }
   ],
   "execution_count": 7
  },
  {
   "cell_type": "markdown",
   "source": [
    "# multi-agent创建测试"
   ],
   "metadata": {
    "collapsed": false
   },
   "id": "9e7ee62ccef8875b"
  },
  {
   "cell_type": "code",
   "source": [
    "from sandbox.simulator import Simulator\n",
    "# 实例化类\n",
    "simulator_instance = Simulator(2)\n",
    "\n",
    "# 调用实例方法\n",
    "simulator_instance.initialize()\n",
    "print(simulator_instance.agents)\n",
    "# simulator_instance.emulate(2)"
   ],
   "metadata": {
    "collapsed": false,
    "ExecuteTime": {
     "end_time": "2024-09-22T12:38:50.005101Z",
     "start_time": "2024-09-22T12:38:49.960513Z"
    }
   },
   "id": "51f503ccdf0d9c6a",
   "outputs": [
    {
     "ename": "KeyError",
     "evalue": "'openai_api_key'",
     "output_type": "error",
     "traceback": [
      "\u001B[0;31m---------------------------------------------------------------------------\u001B[0m",
      "\u001B[0;31mKeyError\u001B[0m                                  Traceback (most recent call last)",
      "Cell \u001B[0;32mIn[12], line 6\u001B[0m\n\u001B[1;32m      3\u001B[0m simulator_instance \u001B[38;5;241m=\u001B[39m Simulator(\u001B[38;5;241m2\u001B[39m)\n\u001B[1;32m      5\u001B[0m \u001B[38;5;66;03m# 调用实例方法\u001B[39;00m\n\u001B[0;32m----> 6\u001B[0m \u001B[43msimulator_instance\u001B[49m\u001B[38;5;241;43m.\u001B[39;49m\u001B[43minitialize\u001B[49m\u001B[43m(\u001B[49m\u001B[43m)\u001B[49m\n\u001B[1;32m      7\u001B[0m \u001B[38;5;28mprint\u001B[39m(simulator_instance\u001B[38;5;241m.\u001B[39magents)\n",
      "File \u001B[0;32m~/Documents/AnDsim/sandbox/simulator.py:90\u001B[0m, in \u001B[0;36mSimulator.initialize\u001B[0;34m(self)\u001B[0m\n\u001B[1;32m     85\u001B[0m \u001B[38;5;250m\u001B[39m\u001B[38;5;124;03m\"\"\"\u001B[39;00m\n\u001B[1;32m     86\u001B[0m \u001B[38;5;124;03m将整个模拟器初始化\u001B[39;00m\n\u001B[1;32m     87\u001B[0m \u001B[38;5;124;03m:return:\u001B[39;00m\n\u001B[1;32m     88\u001B[0m \u001B[38;5;124;03m\"\"\"\u001B[39;00m\n\u001B[1;32m     89\u001B[0m \u001B[38;5;28mself\u001B[39m\u001B[38;5;241m.\u001B[39m_init_tools()\n\u001B[0;32m---> 90\u001B[0m \u001B[38;5;28;43mself\u001B[39;49m\u001B[38;5;241;43m.\u001B[39;49m\u001B[43m_init_agents\u001B[49m\u001B[43m(\u001B[49m\u001B[43m)\u001B[49m\n",
      "File \u001B[0;32m~/Documents/AnDsim/sandbox/simulator.py:52\u001B[0m, in \u001B[0;36mSimulator._init_agents\u001B[0;34m(self)\u001B[0m\n\u001B[1;32m     49\u001B[0m info \u001B[38;5;241m=\u001B[39m AgentInfo(\u001B[38;5;241m0.4\u001B[39m, \u001B[38;5;241m0.4\u001B[39m,\n\u001B[1;32m     50\u001B[0m                  \u001B[38;5;28mself\u001B[39m\u001B[38;5;241m.\u001B[39magent_description_path)  \u001B[38;5;66;03m###actively_chat_probability，end_chat_probability 未填写\u001B[39;00m\n\u001B[1;32m     51\u001B[0m \u001B[38;5;28;01mif\u001B[39;00m i \u001B[38;5;241m==\u001B[39m \u001B[38;5;241m0\u001B[39m:\n\u001B[0;32m---> 52\u001B[0m     agent \u001B[38;5;241m=\u001B[39m \u001B[43mEntranceAgent\u001B[49m\u001B[43m(\u001B[49m\u001B[43mname\u001B[49m\u001B[38;5;241;43m=\u001B[39;49m\u001B[43m[\u001B[49m\u001B[43mi\u001B[49m\u001B[43m]\u001B[49m\u001B[43m,\u001B[49m\u001B[43m \u001B[49m\u001B[43mmodel\u001B[49m\u001B[38;5;241;43m=\u001B[39;49m\u001B[38;5;124;43m'\u001B[39;49m\u001B[38;5;124;43mgpt-4o-mini\u001B[39;49m\u001B[38;5;124;43m'\u001B[39;49m\u001B[43m,\u001B[49m\u001B[43m \u001B[49m\u001B[43mtools\u001B[49m\u001B[38;5;241;43m=\u001B[39;49m\u001B[38;5;28;43mself\u001B[39;49m\u001B[38;5;241;43m.\u001B[39;49m\u001B[43mtools\u001B[49m\u001B[43m,\u001B[49m\n\u001B[1;32m     53\u001B[0m \u001B[43m                          \u001B[49m\u001B[43mbackground\u001B[49m\u001B[38;5;241;43m=\u001B[39;49m\u001B[43minfo\u001B[49m\u001B[43m,\u001B[49m\u001B[43m \u001B[49m\u001B[43mextra_command\u001B[49m\u001B[38;5;241;43m=\u001B[39;49m\u001B[38;5;124;43m\"\u001B[39;49m\u001B[38;5;124;43m\"\u001B[39;49m\u001B[43m)\u001B[49m\n\u001B[1;32m     54\u001B[0m \u001B[38;5;28;01melse\u001B[39;00m:\n\u001B[1;32m     55\u001B[0m     agent \u001B[38;5;241m=\u001B[39m Agent(name\u001B[38;5;241m=\u001B[39m[i], model\u001B[38;5;241m=\u001B[39m\u001B[38;5;124m'\u001B[39m\u001B[38;5;124mgpt-4o-mini\u001B[39m\u001B[38;5;124m'\u001B[39m, tools\u001B[38;5;241m=\u001B[39m\u001B[38;5;28mself\u001B[39m\u001B[38;5;241m.\u001B[39mtools, background\u001B[38;5;241m=\u001B[39minfo)\n",
      "File \u001B[0;32m~/Documents/AnDsim/sandbox/agent.py:402\u001B[0m, in \u001B[0;36mEntranceAgent.__init__\u001B[0;34m(self, name, model, tools, background, extra_command)\u001B[0m\n\u001B[1;32m    394\u001B[0m \u001B[38;5;28;01mdef\u001B[39;00m \u001B[38;5;21m__init__\u001B[39m(\n\u001B[1;32m    395\u001B[0m         \u001B[38;5;28mself\u001B[39m,\n\u001B[1;32m    396\u001B[0m         name: \u001B[38;5;28mlist\u001B[39m[\u001B[38;5;28mint\u001B[39m],\n\u001B[0;32m   (...)\u001B[0m\n\u001B[1;32m    400\u001B[0m         extra_command: \u001B[38;5;28mstr\u001B[39m,  \u001B[38;5;66;03m# 额外的控制指令或prompt\u001B[39;00m\n\u001B[1;32m    401\u001B[0m ):\n\u001B[0;32m--> 402\u001B[0m     \u001B[38;5;28;43msuper\u001B[39;49m\u001B[43m(\u001B[49m\u001B[43m)\u001B[49m\u001B[38;5;241;43m.\u001B[39;49m\u001B[38;5;21;43m__init__\u001B[39;49m\u001B[43m(\u001B[49m\u001B[43mname\u001B[49m\u001B[38;5;241;43m=\u001B[39;49m\u001B[43mname\u001B[49m\u001B[43m,\u001B[49m\u001B[43m \u001B[49m\u001B[43mmodel\u001B[49m\u001B[38;5;241;43m=\u001B[39;49m\u001B[43mmodel\u001B[49m\u001B[43m,\u001B[49m\u001B[43m \u001B[49m\u001B[43mtools\u001B[49m\u001B[38;5;241;43m=\u001B[39;49m\u001B[43mtools\u001B[49m\u001B[43m,\u001B[49m\u001B[43m \u001B[49m\u001B[43mbackground\u001B[49m\u001B[38;5;241;43m=\u001B[39;49m\u001B[43mbackground\u001B[49m\u001B[43m)\u001B[49m\n\u001B[1;32m    403\u001B[0m     \u001B[38;5;66;03m# self.background = ... ## 重点编辑background，使其执行特定行为\u001B[39;00m\n\u001B[1;32m    404\u001B[0m     extra_command \u001B[38;5;241m=\u001B[39m \u001B[38;5;124m\"\u001B[39m\u001B[38;5;124m\"\u001B[39m\n",
      "File \u001B[0;32m~/Documents/AnDsim/sandbox/agent.py:85\u001B[0m, in \u001B[0;36mAgent.__init__\u001B[0;34m(self, name, model, tools, background)\u001B[0m\n\u001B[1;32m     83\u001B[0m \u001B[38;5;28;01mwith\u001B[39;00m \u001B[38;5;28mopen\u001B[39m(\u001B[38;5;124m\"\u001B[39m\u001B[38;5;124m../config/api_keys.yaml\u001B[39m\u001B[38;5;124m\"\u001B[39m) \u001B[38;5;28;01mas\u001B[39;00m f:\n\u001B[1;32m     84\u001B[0m     config \u001B[38;5;241m=\u001B[39m yaml\u001B[38;5;241m.\u001B[39mload(f, Loader\u001B[38;5;241m=\u001B[39myaml\u001B[38;5;241m.\u001B[39mFullLoader)\n\u001B[0;32m---> 85\u001B[0m openai_api_key \u001B[38;5;241m=\u001B[39m \u001B[43mconfig\u001B[49m\u001B[43m[\u001B[49m\u001B[38;5;124;43m\"\u001B[39;49m\u001B[38;5;124;43mopenai_api_key\u001B[39;49m\u001B[38;5;124;43m\"\u001B[39;49m\u001B[43m]\u001B[49m\n\u001B[1;32m     86\u001B[0m embedding \u001B[38;5;241m=\u001B[39m OpenAIEmbeddings(openai_api_key\u001B[38;5;241m=\u001B[39mopenai_api_key)\n\u001B[1;32m     87\u001B[0m long_memory \u001B[38;5;241m=\u001B[39m []\n",
      "\u001B[0;31mKeyError\u001B[0m: 'openai_api_key'"
     ]
    }
   ],
   "execution_count": 12
  },
  {
   "cell_type": "markdown",
   "source": [
    "# 单时间步功能测试\n",
    "接收信息测试"
   ],
   "metadata": {
    "collapsed": false
   },
   "id": "ee7fc36c9945651b"
  },
  {
   "cell_type": "code",
   "outputs": [
    {
     "name": "stdout",
     "output_type": "stream",
     "text": [
      "<waiting>\n"
     ]
    }
   ],
   "source": [
    "from sandbox.message import AgentMessage\n",
    "from sandbox.agent import Agent\n",
    "from sandbox.pre_info import AgentInfo\n",
    "from sandbox.simulator import Simulator\n",
    "# 实例化类\n",
    "simulator_instance = Simulator(3,use_rag=False)\n",
    "\n",
    "# 调用实例方法\n",
    "simulator_instance.initialize()\n",
    "\n",
    "mess1=AgentMessage([2],[1],\"+++++++++\")\n",
    "mess2=AgentMessage([3],[1],\"---------\")\n",
    "info = AgentInfo(0.4, 0.4,\"../datasets/agent_preinstall.json\")\n",
    "# info.neighbors=[0,2]\n",
    "# agent_test=Agent(name=[1], model='gpt-4o-mini', tools=[], background=info,simulator=simulator_instance,use_rag=False)\n",
    "agent =simulator_instance.agents[0]\n",
    "# print(agent.background.neighbors)\n",
    "# print(agent.use_rag)\n",
    "text_to_consider=agent.receive_information()\n",
    "print(text_to_consider.prompt)\n",
    "# print(text_to_consider.send)\n"
   ],
   "metadata": {
    "collapsed": false,
    "ExecuteTime": {
     "end_time": "2024-09-25T09:57:44.092454Z",
     "start_time": "2024-09-25T09:57:42.096269Z"
    }
   },
   "id": "3ab00ea47b460850",
   "execution_count": 1
  },
  {
   "cell_type": "markdown",
   "source": [
    "思考测试"
   ],
   "metadata": {
    "collapsed": false
   },
   "id": "5311fd77ef576ec8"
  },
  {
   "cell_type": "code",
   "outputs": [
    {
     "name": "stdout",
     "output_type": "stream",
     "text": [
      "send_message,\n",
      ",\n",
      ",\n",
      ",\n",
      "What's everyone's go-to workout routine? I'm all about that high-intensity stuff. Roar!,\n",
      "[1]\n"
     ]
    }
   ],
   "source": [
    "from sandbox.action import Action\n",
    "import json\n",
    "\n",
    "prompt=\"\"\"\n",
    "{\n",
    "    \"type\": \"send_message\",\n",
    "    \"tool_name\": \"\",\n",
    "    \"tool_parameter\": \"\",\n",
    "    \"tool_used\": \"\",\n",
    "    \"reply_prompt\": \"What's everyone's go-to workout routine? I'm all about that high-intensity stuff. Roar!\",\n",
    "    \"Sending_target\": [1]\n",
    "}\n",
    "\"\"\"\n",
    "item = json.loads(prompt)\n",
    "action = Action(item[\"type\"], item[\"tool_name\"], item[\"tool_parameter\"], item[\"tool_used\"],\n",
    "                item[\"reply_prompt\"], item[\"Sending_target\"]) \n",
    "print(f\"{action.type},\\n{action.tool_name},\\n{action.tool_parameter},\\n{action.tool_used},\"\n",
    "      f\"\\n{action.reply_prompt},\\n{action.sending_target}\")"
   ],
   "metadata": {
    "collapsed": false,
    "ExecuteTime": {
     "end_time": "2024-09-25T09:57:44.107460Z",
     "start_time": "2024-09-25T09:57:44.094454Z"
    }
   },
   "id": "1331cfa7a96bdcfe",
   "execution_count": 2
  },
  {
   "cell_type": "markdown",
   "source": [
    "act函数测试"
   ],
   "metadata": {
    "collapsed": false
   },
   "id": "7ec1e4553e0a979d"
  },
  {
   "cell_type": "code",
   "outputs": [
    {
     "name": "stdout",
     "output_type": "stream",
     "text": [
      "<sandbox.message.AgentMessage object at 0x00000253673D2F40>\n",
      "What's everyone's go-to workout routine? I'm all about that high-intensity stuff. Roar!\n"
     ]
    }
   ],
   "source": [
    "\n",
    "simulator_instance.agents[0].act(action)\n",
    "print(simulator_instance.agents[1].message_buffer[0].prompt)"
   ],
   "metadata": {
    "collapsed": false,
    "ExecuteTime": {
     "end_time": "2024-09-25T09:58:19.015697Z",
     "start_time": "2024-09-25T09:58:19.009690Z"
    }
   },
   "id": "7ab3e09bfdb08eba",
   "execution_count": 4
  },
  {
   "cell_type": "markdown",
   "source": [
    "回复信息测试"
   ],
   "metadata": {
    "collapsed": false
   },
   "id": "14f6d1bc0409d189"
  },
  {
   "cell_type": "code",
   "outputs": [
    {
     "name": "stdout",
     "output_type": "stream",
     "text": [
      "\n",
      "            presuppose: You can talk to neighbor [2, 1], you can call tool b\n",
      "\n",
      "        \n",
      "        Background: Human: You are having a conversation with others in a chat group on the topic `DIY Projects`. Here is some basic description of you:\n",
      "  Name: Spike\n",
      "  Gender: Male\n",
      "  Personality: Cranky\n",
      "  Style: Rock\n",
      "  Hobby: Fitness\n",
      "  Catchphrase: punk\n",
      "  Favorite Song: K.K. Rock\n",
      "  Favorite Saying: The grass is always greener on the other side.\n",
      "  Color: Black\n",
      "\n",
      "\n",
      "\n",
      "        Neighbor：[2, 1]\n",
      "\n",
      "         \n",
      "        Long memory: \n",
      "\n",
      "        Short memory: \n",
      "         No Short memory\n",
      "received message: What's everyone's go-to workout routine? I'm all about that high-intensity stuff. Roar!\n",
      " this message is [1] send for you\n",
      "    Return value format: This instruction describes how to choose different methods of action (use_tool, send _message) \n",
      "    to respond to a question. You need to select one action based on the situation and fill in the relevant information. Specifically:\n",
      "\n",
      "    If you choose \"use_tool,\" you need to provide the tool name and parameters, put the tools you're using in tool_used, \n",
      "    and you need put the \"received message\" in the reply_prompt.\n",
      "\n",
      "    If you choose \"send_message,\" you need to provide the reply content,and you need select send destination in your neighbor,\n",
      "    multiple targets can be sent.\n",
      "\n",
      "    If you receive a conversation message from someone, it is best to reply to the person.\n",
      "\n",
      "    You can perform only one operation and return it in the following format,\n",
      "    If the parameters are not needed, leave them blank but cannot be deleted：\n",
      "\n",
      "    {“type”:\"\",\n",
      "\n",
      "    \"tool_name\":\"\",\n",
      "\n",
      "    \"tool_parameter\":\"\",\n",
      "\n",
      "    \"tool_used\":\"tool_1,tool_2\",\n",
      "\n",
      "    \"reply_prompt\":\"\",\n",
      "\n",
      "    \"Sending_target\":[1,2]}\n"
     ]
    }
   ],
   "source": [
    "from sandbox.message import AgentMessage\n",
    "from sandbox.agent import Agent\n",
    "from sandbox.pre_info import AgentInfo\n",
    "from sandbox.simulator import Simulator\n",
    "# 实例化类\n",
    "simulator_instance = Simulator(3,use_rag=False)\n",
    "\n",
    "# 调用实例方法\n",
    "simulator_instance.initialize()\n",
    "\n",
    "mess1=AgentMessage([1],[0],\"What's everyone's go-to workout routine? I'm all about that high-intensity stuff. Roar!\")\n",
    "simulator_instance.agents[0].message_buffer.append(mess1)\n",
    "agent =simulator_instance.agents[0]\n",
    "text_to_consider=agent.receive_information()\n",
    "print(text_to_consider.prompt)\n",
    "# print(text_to_consider.send)\n"
   ],
   "metadata": {
    "collapsed": false,
    "ExecuteTime": {
     "end_time": "2024-09-26T13:37:08.002192Z",
     "start_time": "2024-09-26T13:37:06.145934Z"
    }
   },
   "id": "de03b6fcddd4670a",
   "execution_count": 1
  },
  {
   "cell_type": "code",
   "outputs": [],
   "source": [
    "from sandbox.action import Action\n",
    "import json\n",
    "\n",
    "prompt=\"\"\"\n",
    "{\n",
    "    \"type\": \"send_message\",\n",
    "    \"tool_name\": \"\",\n",
    "    \"tool_parameter\": \"\",\n",
    "    \"tool_used\": \"\",\n",
    "    \"reply_prompt\": \"High-intensity is the way to go! I'm all about pumping iron and hitting those heavy sets. Keeps the punk spirit alive! What routines do you all follow?\",\n",
    "    \"Sending_target\": [1]\n",
    "}\n",
    "\"\"\"\n",
    "item = json.loads(prompt)\n",
    "action = Action(item[\"type\"], item[\"tool_name\"], item[\"tool_parameter\"], item[\"tool_used\"],\n",
    "                item[\"reply_prompt\"], item[\"Sending_target\"]) \n",
    "print(f\"{action.type},\\n{action.tool_name},\\n{action.tool_parameter},\\n{action.tool_used},\"\n",
    "      f\"\\n{action.reply_prompt},\\n{action.sending_target}\")"
   ],
   "metadata": {
    "collapsed": false
   },
   "id": "75dd8115ee608c0d"
  },
  {
   "cell_type": "markdown",
   "source": [
    "# multi-agent 测试"
   ],
   "metadata": {
    "collapsed": false
   },
   "id": "32a6e6ab5f75cdc7"
  },
  {
   "cell_type": "code",
   "outputs": [
    {
     "ename": "KeyboardInterrupt",
     "evalue": "",
     "output_type": "error",
     "traceback": [
      "\u001B[1;31m---------------------------------------------------------------------------\u001B[0m",
      "\u001B[1;31mKeyboardInterrupt\u001B[0m                         Traceback (most recent call last)",
      "Cell \u001B[1;32mIn[1], line 5\u001B[0m\n\u001B[0;32m      3\u001B[0m MA\u001B[38;5;241m=\u001B[39m Simulator(num_agents,use_rag\u001B[38;5;241m=\u001B[39m\u001B[38;5;28;01mFalse\u001B[39;00m)\n\u001B[0;32m      4\u001B[0m MA\u001B[38;5;241m.\u001B[39minitialize()\n\u001B[1;32m----> 5\u001B[0m \u001B[43mMA\u001B[49m\u001B[38;5;241;43m.\u001B[39;49m\u001B[43memulate\u001B[49m\u001B[43m(\u001B[49m\u001B[38;5;241;43m3\u001B[39;49m\u001B[43m)\u001B[49m\n",
      "File \u001B[1;32mD:\\work\\study\\BUPT\\computer\\LLM_learn\\AnDsim\\sandbox\\simulator.py:129\u001B[0m, in \u001B[0;36mSimulator.emulate\u001B[1;34m(self, num_step)\u001B[0m\n\u001B[0;32m    127\u001B[0m \u001B[38;5;28;01mfor\u001B[39;00m _ \u001B[38;5;129;01min\u001B[39;00m \u001B[38;5;28mrange\u001B[39m(num_step):\n\u001B[0;32m    128\u001B[0m     \u001B[38;5;28;01mfor\u001B[39;00m agent \u001B[38;5;129;01min\u001B[39;00m \u001B[38;5;28mself\u001B[39m\u001B[38;5;241m.\u001B[39magents:\n\u001B[1;32m--> 129\u001B[0m         \u001B[43magent\u001B[49m\u001B[38;5;241;43m.\u001B[39;49m\u001B[43memulate_one_step\u001B[49m\u001B[43m(\u001B[49m\u001B[43m)\u001B[49m\n",
      "File \u001B[1;32m_pydevd_bundle\\pydevd_cython_win32_39_64.pyx:1187\u001B[0m, in \u001B[0;36m_pydevd_bundle.pydevd_cython_win32_39_64.SafeCallWrapper.__call__\u001B[1;34m()\u001B[0m\n",
      "File \u001B[1;32m_pydevd_bundle\\pydevd_cython_win32_39_64.pyx:627\u001B[0m, in \u001B[0;36m_pydevd_bundle.pydevd_cython_win32_39_64.PyDBFrame.trace_dispatch\u001B[1;34m()\u001B[0m\n",
      "File \u001B[1;32m_pydevd_bundle\\pydevd_cython_win32_39_64.pyx:1103\u001B[0m, in \u001B[0;36m_pydevd_bundle.pydevd_cython_win32_39_64.PyDBFrame.trace_dispatch\u001B[1;34m()\u001B[0m\n",
      "File \u001B[1;32m_pydevd_bundle\\pydevd_cython_win32_39_64.pyx:1096\u001B[0m, in \u001B[0;36m_pydevd_bundle.pydevd_cython_win32_39_64.PyDBFrame.trace_dispatch\u001B[1;34m()\u001B[0m\n",
      "File \u001B[1;32m_pydevd_bundle\\pydevd_cython_win32_39_64.pyx:585\u001B[0m, in \u001B[0;36m_pydevd_bundle.pydevd_cython_win32_39_64.PyDBFrame.do_wait_suspend\u001B[1;34m()\u001B[0m\n",
      "File \u001B[1;32mE:\\app\\work\\PyCharm 2023.3.5\\plugins\\python\\helpers\\pydev\\pydevd.py:1184\u001B[0m, in \u001B[0;36mPyDB.do_wait_suspend\u001B[1;34m(self, thread, frame, event, arg, send_suspend_message, is_unhandled_exception)\u001B[0m\n\u001B[0;32m   1181\u001B[0m         from_this_thread\u001B[38;5;241m.\u001B[39mappend(frame_id)\n\u001B[0;32m   1183\u001B[0m \u001B[38;5;28;01mwith\u001B[39;00m \u001B[38;5;28mself\u001B[39m\u001B[38;5;241m.\u001B[39m_threads_suspended_single_notification\u001B[38;5;241m.\u001B[39mnotify_thread_suspended(thread_id, stop_reason):\n\u001B[1;32m-> 1184\u001B[0m     \u001B[38;5;28;43mself\u001B[39;49m\u001B[38;5;241;43m.\u001B[39;49m\u001B[43m_do_wait_suspend\u001B[49m\u001B[43m(\u001B[49m\u001B[43mthread\u001B[49m\u001B[43m,\u001B[49m\u001B[43m \u001B[49m\u001B[43mframe\u001B[49m\u001B[43m,\u001B[49m\u001B[43m \u001B[49m\u001B[43mevent\u001B[49m\u001B[43m,\u001B[49m\u001B[43m \u001B[49m\u001B[43marg\u001B[49m\u001B[43m,\u001B[49m\u001B[43m \u001B[49m\u001B[43msuspend_type\u001B[49m\u001B[43m,\u001B[49m\u001B[43m \u001B[49m\u001B[43mfrom_this_thread\u001B[49m\u001B[43m)\u001B[49m\n",
      "File \u001B[1;32mE:\\app\\work\\PyCharm 2023.3.5\\plugins\\python\\helpers\\pydev\\pydevd.py:1199\u001B[0m, in \u001B[0;36mPyDB._do_wait_suspend\u001B[1;34m(self, thread, frame, event, arg, suspend_type, from_this_thread)\u001B[0m\n\u001B[0;32m   1196\u001B[0m             \u001B[38;5;28mself\u001B[39m\u001B[38;5;241m.\u001B[39m_call_mpl_hook()\n\u001B[0;32m   1198\u001B[0m         \u001B[38;5;28mself\u001B[39m\u001B[38;5;241m.\u001B[39mprocess_internal_commands()\n\u001B[1;32m-> 1199\u001B[0m         \u001B[43mtime\u001B[49m\u001B[38;5;241;43m.\u001B[39;49m\u001B[43msleep\u001B[49m\u001B[43m(\u001B[49m\u001B[38;5;241;43m0.01\u001B[39;49m\u001B[43m)\u001B[49m\n\u001B[0;32m   1201\u001B[0m \u001B[38;5;28mself\u001B[39m\u001B[38;5;241m.\u001B[39mcancel_async_evaluation(get_current_thread_id(thread), \u001B[38;5;28mstr\u001B[39m(\u001B[38;5;28mid\u001B[39m(frame)))\n\u001B[0;32m   1203\u001B[0m \u001B[38;5;66;03m# process any stepping instructions\u001B[39;00m\n",
      "\u001B[1;31mKeyboardInterrupt\u001B[0m: "
     ]
    }
   ],
   "source": [
    "from sandbox.simulator import Simulator\n",
    "num_agents=5\n",
    "MA= Simulator(num_agents,use_rag=False)\n",
    "MA.initialize()\n",
    "MA.emulate(3)"
   ],
   "metadata": {
    "collapsed": false,
    "ExecuteTime": {
     "end_time": "2024-09-26T13:51:29.137044Z",
     "start_time": "2024-09-26T13:49:58.702673Z"
    }
   },
   "id": "c15cb90270ac6f52",
   "execution_count": 1
  },
  {
   "cell_type": "code",
   "outputs": [],
   "source": [],
   "metadata": {
    "collapsed": false
   },
   "id": "af0286f701cd9aa0"
  }
 ],
 "metadata": {
  "kernelspec": {
   "display_name": "Python 3",
   "language": "python",
   "name": "python3"
  },
  "language_info": {
   "codemirror_mode": {
    "name": "ipython",
    "version": 2
   },
   "file_extension": ".py",
   "mimetype": "text/x-python",
   "name": "python",
   "nbconvert_exporter": "python",
   "pygments_lexer": "ipython2",
   "version": "2.7.6"
  }
 },
 "nbformat": 4,
 "nbformat_minor": 5
}
