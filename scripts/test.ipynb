{
 "cells": [
  {
   "metadata": {},
   "cell_type": "markdown",
   "source": [
    "# Test for multi-agent chat"
   ],
   "id": "4d31a0805dd147e3"
  },
  {
   "cell_type": "code",
   "execution_count": null,
   "id": "initial_id",
   "metadata": {
    "collapsed": true
   },
   "outputs": [],
   "source": [
    "# import ...\n",
    "import asyncio\n",
    "from sandbox.simulator import Simulator"
   ]
  },
  {
   "metadata": {},
   "cell_type": "code",
   "outputs": [],
   "execution_count": null,
   "source": [
    "test = Simulator(num_agents=5, agents_mode='preset', subject=\"normal\")\n",
    "test.initialize()\n",
    "asyncio.run(test.emulate())"
   ],
   "id": "9ddad7417cf92874"
  },
  {
   "metadata": {},
   "cell_type": "markdown",
   "source": [
    "# Test for system safety evaluation"
   ],
   "id": "492fadaf3b5f83b5"
  },
  {
   "metadata": {},
   "cell_type": "code",
   "outputs": [],
   "execution_count": null,
   "source": [
    "from evaluator.evaluator import Evaluator\n",
    "evaluator = Evaluator(test)"
   ],
   "id": "ed4e1071d0e04f2"
  },
  {
   "metadata": {},
   "cell_type": "code",
   "outputs": [],
   "execution_count": null,
   "source": [
    "evaluator.check_log()"
   ],
   "id": "26c376f580ab3945"
  },
  {
   "metadata": {},
   "cell_type": "code",
   "outputs": [],
   "execution_count": null,
   "source": [
    "evaluator.check_normality()"
   ],
   "id": "10bac330b8ac4330"
  },
  {
   "metadata": {},
   "cell_type": "code",
   "outputs": [],
   "execution_count": null,
   "source": [
    "evaluator.check_reality()"
   ],
   "id": "7bf6204cbe4be36b"
  }
 ],
 "metadata": {
  "kernelspec": {
   "display_name": "Python 3",
   "language": "python",
   "name": "python3"
  },
  "language_info": {
   "codemirror_mode": {
    "name": "ipython",
    "version": 2
   },
   "file_extension": ".py",
   "mimetype": "text/x-python",
   "name": "python",
   "nbconvert_exporter": "python",
   "pygments_lexer": "ipython2",
   "version": "2.7.6"
  }
 },
 "nbformat": 4,
 "nbformat_minor": 5
}
